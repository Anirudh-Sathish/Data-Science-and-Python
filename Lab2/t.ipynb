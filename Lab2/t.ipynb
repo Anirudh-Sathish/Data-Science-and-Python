{
 "cells": [
  {
   "cell_type": "code",
   "execution_count": 3,
   "metadata": {},
   "outputs": [
    {
     "data": {
      "text/plain": [
       "' \\nWrite a python program to implement set operations using menu-driven programming. The menus to be implemented are as follows,\\nCreate Empty Set\\nInsert\\nDelete\\nSearch\\nPrint\\nUnion\\nIntersection\\nSet Difference\\nSymmetric Difference\\n'"
      ]
     },
     "execution_count": 3,
     "metadata": {},
     "output_type": "execute_result"
    }
   ],
   "source": [
    "\"\"\" \n",
    "Write a python program to implement set operations using menu-driven programming. The menus to be implemented are as follows,\n",
    "1.Create Empty Set\n",
    "2.Insert\n",
    "3.Delete\n",
    "4.Search\n",
    "5.Print\n",
    "6.Union\n",
    "7.Intersection\n",
    "8.Set Difference\n",
    "9.Symmetric Difference\n",
    "\"\"\""
   ]
  },
  {
   "cell_type": "code",
   "execution_count": 32,
   "metadata": {},
   "outputs": [],
   "source": [
    "SetDict = {\"set\":\"NULL\"}"
   ]
  },
  {
   "cell_type": "code",
   "execution_count": null,
   "metadata": {},
   "outputs": [],
   "source": [
    "\"\"\" print(\"Welcome to the Set Ops\")\n",
    "    print(\"What are you here for ?\")\n",
    "    print(\"Press Key according to need \")\n",
    "    print(\"Press 1 For Creating Empty Set \")\n",
    "    print(\"Press 2 For Insert \")\n",
    "    print(\"Press 3 For Delete \")\n",
    "    print(\"Press 4 For Search \")\n",
    "    print(\"Press 5 For Print \")\n",
    "    print(\"Press 6 For Union \")\n",
    "    print(\"Press 7 For Intersection \")\n",
    "    print(\"Press 8 For Set Difference \")\n",
    "    print(\"Press 9 For Symmetric Difference \")\n",
    "    print(\"Press 10 For Exiting \")\"\"\""
   ]
  },
  {
   "cell_type": "code",
   "execution_count": 51,
   "metadata": {},
   "outputs": [
    {
     "name": "stdout",
     "output_type": "stream",
     "text": [
      "Set Difference operation\n",
      "Enter the name of the set u want to make this set perform set difference with \n",
      "The set after set difference is  {'30'}\n",
      "Let us display for you \n",
      "The set is : {'30'}\n",
      "Let us display for you \n",
      "The set is : {'30'}\n",
      "To which set do u want to insert to \n",
      "100  has been added to  jackie\n",
      "Let us display for you \n",
      "The set is : {'30', '100'}\n",
      "Symmetric Difference operation\n",
      "Enter the name of the set u want to make this set perform symmetric set difference with \n",
      "The set after symmetric set difference is  {'h', 'c', 'a', '30', '100', 'n'}\n",
      "Thanks for visiting \n",
      "You are exiting now\n"
     ]
    }
   ],
   "source": [
    "exploration_done = False\n",
    "\n",
    "while exploration_done is False:\n",
    "    # Writing the menu part \n",
    "\n",
    "\n",
    "    option_chosen = int(input(\"Enter the option you want to chose\"))\n",
    "    if option_chosen == 1:\n",
    "        setName = (input(\"Enter the setName\"))\n",
    "        var = setName\n",
    "        if setName not in SetDict:\n",
    "            setName =set()\n",
    "            #setName.add(4)\n",
    "            print(type(setName))\n",
    "            print(\"The set has been created with name \",var)\n",
    "            SetDict[var]= setName\n",
    "        else:\n",
    "            print(\"There is already a set with the given name\")\n",
    "\n",
    "\n",
    "    elif option_chosen == 2:\n",
    "        #Inserting into set\n",
    "        print(\"To which set do u want to insert to \")\n",
    "        setName = (input(\"Enter the setName\"))\n",
    "        var = setName\n",
    "        if setName in SetDict:\n",
    "            value = (input(\"Enter the value u want to insert \"))\n",
    "            SetDict[var].add(value)\n",
    "            print(value,\" has been added to \",var)\n",
    "        else:\n",
    "            print(\"There is no set like this \")\n",
    "    elif option_chosen == 3:\n",
    "        #Deleting from the set\n",
    "        print(\"To which set do u want to delete from \")\n",
    "        setName = (input(\"Enter the setName\"))\n",
    "        var = setName\n",
    "        if setName in SetDict:\n",
    "            value = (input(\"Enter the value u want to delete \"))\n",
    "            if value in SetDict[var]:\n",
    "                SetDict[var].pop(value)\n",
    "                print(\"Removed\")\n",
    "            else:\n",
    "                print(value,\" is not there in the set \",setName)\n",
    "        else:\n",
    "            print(\"There is no set like this \")\n",
    "    elif option_chosen == 4:\n",
    "        print(\"Let us search for you \")\n",
    "        setName = (input(\"Enter the setName\"))\n",
    "        var = setName\n",
    "        if var in SetDict:\n",
    "            value = (input(\"Enter the value u want to search for\"))\n",
    "            if value in SetDict[var]:\n",
    "                print(value,\" is there in the set \",setName)\n",
    "            else:\n",
    "                print(value,\" is not there in the set \",setName)\n",
    "        else:\n",
    "            print(\"There is no set like this \")\n",
    "\n",
    "    #Display\n",
    "    elif option_chosen == 5:\n",
    "        print(\"Let us display for you \")\n",
    "        setName = (input(\"Enter the setName\"))\n",
    "        var = setName\n",
    "        if var in SetDict:\n",
    "            print(\"The set is :\",SetDict[var])\n",
    "        else:\n",
    "            print(\"There is no set like this \")\n",
    "\n",
    "    #Union        \n",
    "    elif option_chosen == 6:\n",
    "        print(\"Union Operation \")\n",
    "        setName1 = (input(\"Enter the setName\"))\n",
    "        var1 = setName1\n",
    "        if setName1 in SetDict:\n",
    "            print(\"Enter the name of the set u want to make this set perform union with \")\n",
    "            setName2 = (input(\"Enter the second setname\"))\n",
    "            var2 = setName2\n",
    "            if setName2 in SetDict:\n",
    "                SetDict[var1] =SetDict[var1].union(SetDict[var2])\n",
    "                print(\"The set after union is \",SetDict[var1])\n",
    "            else:\n",
    "                print(\"There is no such set \")       \n",
    "        else:\n",
    "            print(\"There is no set like this \")\n",
    "    #Intersection        \n",
    "    elif option_chosen == 7:\n",
    "        print(\"Intersection operation\")\n",
    "        setName1 = (input(\"Enter the setName\"))\n",
    "        if setName1 in SetDict:\n",
    "            print(\"Enter the name of the set u want to make this set perform intersection with \")\n",
    "            setName2 = (input(\"Enter the second setname\"))\n",
    "            if setName2 in SetDict:\n",
    "                SetDict[setName1] = SetDict[setName1].intersection(SetDict[setName2])\n",
    "                print(\"The set after intersection is \",SetDict[setName1])\n",
    "            else:\n",
    "                print(\"There is no such set \")       \n",
    "        else:\n",
    "            print(\"There is no set like this \")\n",
    "    #Set Difference    \n",
    "    elif option_chosen == 8:\n",
    "        print(\"Set Difference operation\")\n",
    "        setName1 = (input(\"Enter the setName\"))\n",
    "        if setName1 in SetDict:\n",
    "            print(\"Enter the name of the set u want to make this set perform set difference with \")\n",
    "            setName2 = (input(\"Enter the second setname\"))\n",
    "            if setName2 in SetDict:\n",
    "                SetDict[setName1] = SetDict[setName1].difference(setName2)\n",
    "                print(\"The set after set difference is \",SetDict[setName1])\n",
    "            else:\n",
    "                print(\"There is no such set \")       \n",
    "        else:\n",
    "            print(\"There is no set like this \")\n",
    "    #Symmetric Difference        \n",
    "    elif option_chosen == 9:\n",
    "        print(\"Symmetric Difference operation\")\n",
    "        setName1 = (input(\"Enter the setName\"))\n",
    "        if setName1 in SetDict:\n",
    "            print(\"Enter the name of the set u want to make this set perform symmetric set difference with \")\n",
    "            setName2 = (input(\"Enter the second setname\"))\n",
    "            if setName2 in SetDict:\n",
    "                SetDict[setName1] = SetDict[setName1].symmetric_difference(SetDict[setName2])\n",
    "                print(\"The set after symmetric set difference is \",SetDict[setName1])\n",
    "            else:\n",
    "                print(\"There is no such set \")       \n",
    "        else:\n",
    "            print(\"There is no set like this \")\n",
    "    elif option_chosen == 10:\n",
    "        print(\"Thanks for visiting \")\n",
    "        print(\"You are exiting now\")\n",
    "        exploration_done = True\n",
    "    else:\n",
    "        print(\"Maybe you made an input error. We take input values from range 1 to 4\")"
   ]
  },
  {
   "cell_type": "code",
   "execution_count": 30,
   "metadata": {},
   "outputs": [
    {
     "name": "stdout",
     "output_type": "stream",
     "text": [
      "<class 'set'>\n",
      "The set has been created with name  loki\n"
     ]
    }
   ],
   "source": [
    "setName = (input(\"Enter the setName\"))\n",
    "var = setName\n",
    "if setName not in SetDict:\n",
    "    setName =set()\n",
    "    #setName.add(4)\n",
    "    print(type(setName))\n",
    "    print(\"The set has been created with name \",var)\n",
    "    SetDict[var]= setName\n",
    "else:\n",
    "    print(\"There is already a set with the given name\")"
   ]
  },
  {
   "cell_type": "code",
   "execution_count": 37,
   "metadata": {},
   "outputs": [
    {
     "name": "stdout",
     "output_type": "stream",
     "text": [
      "{'set': 'NULL', 'blink': {'10'}, 'jackie': {'8'}}\n"
     ]
    }
   ],
   "source": [
    "print(SetDict)"
   ]
  },
  {
   "cell_type": "code",
   "execution_count": 38,
   "metadata": {},
   "outputs": [
    {
     "name": "stdout",
     "output_type": "stream",
     "text": [
      "Let us search for you \n",
      "8  is there in the set  jackie\n"
     ]
    }
   ],
   "source": [
    "print(\"Let us search for you \")\n",
    "setName = (input(\"Enter the setName\"))\n",
    "var = setName\n",
    "if var in SetDict:\n",
    "    value = (input(\"Enter the value u want to search for\"))\n",
    "    if value in SetDict[var]:\n",
    "        print(value,\" is there in the set \",setName)\n",
    "    else:\n",
    "        print(value,\" is not there in the set \",setName)\n",
    "else:\n",
    "    print(\"There is no set like this \")"
   ]
  },
  {
   "cell_type": "code",
   "execution_count": 47,
   "metadata": {},
   "outputs": [
    {
     "name": "stdout",
     "output_type": "stream",
     "text": [
      "Union Operation \n",
      "Enter the name of the set u want to make this set perform union with \n",
      "The set after union is  {'8', '30', '20'}\n"
     ]
    }
   ],
   "source": [
    "print(\"Union Operation \")\n",
    "setName1 = (input(\"Enter the setName\"))\n",
    "var1 = setName1\n",
    "if setName1 in SetDict:\n",
    "    print(\"Enter the name of the set u want to make this set perform union with \")\n",
    "    setName2 = (input(\"Enter the second setname\"))\n",
    "    var2 = setName2\n",
    "    if setName2 in SetDict:\n",
    "        SetDict[var1] =SetDict[var1].union(SetDict[var2])\n",
    "        print(\"The set after union is \",SetDict[var1])\n",
    "    else:\n",
    "        print(\"There is no such set \")       \n",
    "else:\n",
    "    print(\"There is no set like this \")"
   ]
  },
  {
   "cell_type": "code",
   "execution_count": 45,
   "metadata": {},
   "outputs": [
    {
     "name": "stdout",
     "output_type": "stream",
     "text": [
      "{'set': 'NULL', 'blink': {'10'}, 'jackie': {'8', '20'}, 'chan': {'30'}}\n"
     ]
    }
   ],
   "source": [
    "print(SetDict)"
   ]
  },
  {
   "cell_type": "code",
   "execution_count": null,
   "metadata": {},
   "outputs": [],
   "source": []
  }
 ],
 "metadata": {
  "kernelspec": {
   "display_name": "Python 3.8.8 ('base')",
   "language": "python",
   "name": "python3"
  },
  "language_info": {
   "codemirror_mode": {
    "name": "ipython",
    "version": 3
   },
   "file_extension": ".py",
   "mimetype": "text/x-python",
   "name": "python",
   "nbconvert_exporter": "python",
   "pygments_lexer": "ipython3",
   "version": "3.8.8"
  },
  "orig_nbformat": 4,
  "vscode": {
   "interpreter": {
    "hash": "2f3eb0242237f7482054201cdc0254386ced23c6e95d6945cb90bc9b5b8e1362"
   }
  }
 },
 "nbformat": 4,
 "nbformat_minor": 2
}
