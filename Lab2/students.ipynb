{
 "cells": [
  {
   "cell_type": "code",
   "execution_count": 24,
   "metadata": {},
   "outputs": [
    {
     "data": {
      "text/plain": [
       "' \\nWrite a python script to implement student details using a dictionary.\\nThe roll number of the student will be the key, the value will be a list \\ncontaining the name, CGPA, and mobile number of the respective student.\\nThe program should be implemented as a menu-driven program with the following menus,\\n1.Insert\\n2.Delete\\n3.Search\\n4.Exit\\n'"
      ]
     },
     "execution_count": 24,
     "metadata": {},
     "output_type": "execute_result"
    }
   ],
   "source": [
    "\"\"\" \n",
    "Write a python script to implement student details using a dictionary.\n",
    "The roll number of the student will be the key, the value will be a list \n",
    "containing the name, CGPA, and mobile number of the respective student.\n",
    "The program should be implemented as a menu-driven program with the following menus,\n",
    "1.Insert\n",
    "2.Delete\n",
    "3.Search\n",
    "4.Exit\n",
    "\"\"\""
   ]
  },
  {
   "cell_type": "code",
   "execution_count": 57,
   "metadata": {},
   "outputs": [
    {
     "name": "stdout",
     "output_type": "stream",
     "text": [
      "Welcome to the Student Info Corner\n",
      "What are you here for ?\n",
      "Press Key according to need \n",
      "Press 1 For Inserting your data \n",
      "Press 2 For Deleting your data \n",
      "Press 3 For Searching your data \n",
      "Press 4 For Exiting \n"
     ]
    }
   ],
   "source": [
    "# Writing the menu part \n",
    "print(\"Welcome to the Student Info Corner\")\n",
    "print(\"What are you here for ?\")\n",
    "print(\"Press Key according to need \")\n",
    "print(\"Press 1 For Inserting your data \")\n",
    "print(\"Press 2 For Deleting your data \")\n",
    "print(\"Press 3 For Searching your data \")\n",
    "print(\"Press 4 For Exiting \")"
   ]
  },
  {
   "cell_type": "code",
   "execution_count": 59,
   "metadata": {},
   "outputs": [],
   "source": [
    "#Creating an empty dict \n",
    "    #It should contain a roll_no key and a student_info_list\n",
    "    #roll_no shall be a string \n",
    "student_storage ={}"
   ]
  },
  {
   "cell_type": "code",
   "execution_count": 75,
   "metadata": {},
   "outputs": [
    {
     "name": "stdout",
     "output_type": "stream",
     "text": [
      "Let us search for you \n",
      "Sorry , this roll number does not exist\n",
      "Bye Bye!!!! \n",
      "Let us search for you \n",
      "The details are \n",
      "Student Name: jayant\n",
      "Student CGPA: 7\n",
      "Student Mobile: 8972392376\n",
      "Thanks for visiting \n",
      "You are exiting now\n"
     ]
    }
   ],
   "source": [
    "exploration_done = False\n",
    "\n",
    "while exploration_done is False:\n",
    "    # Writing the menu part \n",
    "    print(\"Welcome to the Student Info Corner\")\n",
    "    print(\"What are you here for ?\")\n",
    "    print(\"Press Key according to need \")\n",
    "    print(\"Press 1 For Inserting your data \")\n",
    "    print(\"Press 2 For Deleting your data \")\n",
    "    print(\"Press 3 For Searching your data \")\n",
    "    print(\"Press 4 For Exiting \")\n",
    "    option_chosen = int(input(\"Enter the option you want to chose\"))\n",
    "    if option_chosen == 1:\n",
    "        #Inserting value into dict\n",
    "        #So take inputt\n",
    "        #Ask for roll_number\n",
    "        roll_number = (input(\"Enter your roll_number\"))\n",
    "        #Creating an empty list\n",
    "            #The list shall contain name , CGPA and mobile number     \n",
    "        student_info_list = []\n",
    "        #Ask for Name , CGPA and mobile_number \n",
    "        student_Name = (input(\"Enter your name\"))\n",
    "        student_info_list.append(student_Name)\n",
    "        student_CGPA = (input(\"Enter CGPA\"))\n",
    "        student_info_list.append(student_CGPA)\n",
    "        student_Mobile = int(input(\"Enter mobile no\"))\n",
    "        student_info_list.append(student_Mobile)\n",
    "\n",
    "        #Inserting into the dict with student as key\n",
    "        student_storage[roll_number] = student_info_list\n",
    "    elif option_chosen == 2:\n",
    "        #Deleting the key\n",
    "        #Take roll Number as input for that\n",
    "        #Ask for roll_number\n",
    "        roll_number = (input(\"Enter your roll_number\"))\n",
    "        if roll_number not in student_storage:\n",
    "            print(\"Sorry , this is an invalid roll number\")\n",
    "            print(\"Bye Bye!!!! \")\n",
    "        else: \n",
    "            print(\"We will begin deletion\")\n",
    "            student_storage.pop(roll_number)\n",
    "            print(\"Congrats ! You have been succesfully deleted \")\n",
    "    elif option_chosen == 3:\n",
    "        print(\"Let us search for you \")\n",
    "        roll_number = (input(\"Enter your roll_number\"))\n",
    "        if roll_number not in student_storage:\n",
    "            print(\"Sorry , this roll number does not exist\")\n",
    "            print(\"Bye Bye!!!! \")\n",
    "        else:\n",
    "            student_Name =student_storage[roll_number][0]\n",
    "            student_CGPA =student_storage[roll_number][1]\n",
    "            student_Mobile = student_storage[roll_number][2]\n",
    "            print(\"The details are \")\n",
    "            print(\"Student Name:\",student_Name)\n",
    "            print(\"Student CGPA:\",student_CGPA)\n",
    "            print(\"Student Mobile:\",student_Mobile)\n",
    "    elif option_chosen == 4:\n",
    "        print(\"Thanks for visiting \")\n",
    "        print(\"You are exiting now\")\n",
    "        exploration_done = True\n",
    "    else:\n",
    "        print(\"Maybe you made an input error. We take input values from range 1 to 4\")\n"
   ]
  },
  {
   "cell_type": "code",
   "execution_count": null,
   "metadata": {},
   "outputs": [],
   "source": []
  },
  {
   "cell_type": "code",
   "execution_count": null,
   "metadata": {},
   "outputs": [],
   "source": []
  }
 ],
 "metadata": {
  "kernelspec": {
   "display_name": "Python 3.8.8 ('base')",
   "language": "python",
   "name": "python3"
  },
  "language_info": {
   "codemirror_mode": {
    "name": "ipython",
    "version": 3
   },
   "file_extension": ".py",
   "mimetype": "text/x-python",
   "name": "python",
   "nbconvert_exporter": "python",
   "pygments_lexer": "ipython3",
   "version": "3.8.8"
  },
  "orig_nbformat": 4,
  "vscode": {
   "interpreter": {
    "hash": "2f3eb0242237f7482054201cdc0254386ced23c6e95d6945cb90bc9b5b8e1362"
   }
  }
 },
 "nbformat": 4,
 "nbformat_minor": 2
}
