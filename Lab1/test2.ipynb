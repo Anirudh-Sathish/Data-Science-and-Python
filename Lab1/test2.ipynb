{
 "cells": [
  {
   "cell_type": "code",
   "execution_count": 23,
   "metadata": {},
   "outputs": [
    {
     "name": "stdout",
     "output_type": "stream",
     "text": [
      "6\n"
     ]
    }
   ],
   "source": [
    "#Take inputs from the user \n",
    "val = int(input(\"Enter the total numbers\"))\n",
    "print(val)"
   ]
  },
  {
   "cell_type": "code",
   "execution_count": 37,
   "metadata": {},
   "outputs": [],
   "source": [
    "#Creating an empty list to hold the values \n",
    "arr =[]\n",
    "for i in range(val):\n",
    "    i = int(input(\"Enter Value  \"))\n",
    "    arr.append(i)"
   ]
  },
  {
   "cell_type": "code",
   "execution_count": 27,
   "metadata": {},
   "outputs": [],
   "source": [
    "def insertionSort(arr):\n",
    "    result =[]\n",
    "    for i in range(1,len(arr)):\n",
    "        #Keeping track of the curr element we have \n",
    "        curr =arr[i]\n",
    "\n",
    "        #Sorting out the elements less than the key \n",
    "        k = i-1\n",
    "        while (curr <arr[k]) and k>=0:\n",
    "            arr[k+1] = arr[k]\n",
    "            k = k-1\n",
    "        arr[k+1] = curr          \n"
   ]
  },
  {
   "cell_type": "code",
   "execution_count": 30,
   "metadata": {},
   "outputs": [],
   "source": [
    "insertionSort(arr)"
   ]
  },
  {
   "cell_type": "code",
   "execution_count": 32,
   "metadata": {},
   "outputs": [],
   "source": [
    "def binarySearch(low , high ,arr , key):\n",
    "    # Check if high is greater than low \n",
    "    if(high >=low):\n",
    "        # The // is to make sure we get an integer output to the mid value \n",
    "        mid = (low+high)//2\n",
    "        if(key == arr[mid]):\n",
    "            return mid\n",
    "        if(key >arr[mid]):\n",
    "            return binarySearch(mid+1, high,arr,key)\n",
    "        elif(key <arr[mid]):\n",
    "            return binarySearch(mid-1,high,arr,key)\n",
    "    else:\n",
    "        # The element is not found in the list \n",
    "        return -1\n"
   ]
  },
  {
   "cell_type": "code",
   "execution_count": 33,
   "metadata": {},
   "outputs": [
    {
     "name": "stdout",
     "output_type": "stream",
     "text": [
      "3\n"
     ]
    }
   ],
   "source": [
    "search_parameter = int(input(\"What is the number you are searching for\"))\n",
    "print(search_parameter)\n"
   ]
  },
  {
   "cell_type": "code",
   "execution_count": 35,
   "metadata": {},
   "outputs": [],
   "source": [
    "search = binarySearch(0,val-1,arr,search_parameter)"
   ]
  },
  {
   "cell_type": "code",
   "execution_count": 36,
   "metadata": {},
   "outputs": [
    {
     "name": "stdout",
     "output_type": "stream",
     "text": [
      "2\n"
     ]
    }
   ],
   "source": [
    "print(search)"
   ]
  },
  {
   "cell_type": "code",
   "execution_count": 38,
   "metadata": {},
   "outputs": [],
   "source": [
    "def searchElement(low , high ,arr , key):\n",
    "    if(len(arr) >3):\n",
    "        binarySearch(low,high,arr,key)\n",
    "    else:\n",
    "        for i in range(0,arr(len)):\n",
    "            if(key == arr[i]):\n",
    "                return arr[i]\n",
    "        return -1"
   ]
  },
  {
   "cell_type": "code",
   "execution_count": null,
   "metadata": {},
   "outputs": [],
   "source": []
  }
 ],
 "metadata": {
  "kernelspec": {
   "display_name": "Python 3.9.2 64-bit",
   "language": "python",
   "name": "python3"
  },
  "language_info": {
   "codemirror_mode": {
    "name": "ipython",
    "version": 3
   },
   "file_extension": ".py",
   "mimetype": "text/x-python",
   "name": "python",
   "nbconvert_exporter": "python",
   "pygments_lexer": "ipython3",
   "version": "3.9.2"
  },
  "orig_nbformat": 4,
  "vscode": {
   "interpreter": {
    "hash": "8c93b56f12893a73f3fb26b619faf35eb67f0f4410719b74190040acf104b72e"
   }
  }
 },
 "nbformat": 4,
 "nbformat_minor": 2
}
