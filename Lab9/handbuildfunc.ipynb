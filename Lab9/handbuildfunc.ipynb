{
 "cells": [
  {
   "cell_type": "code",
   "execution_count": 16,
   "metadata": {},
   "outputs": [],
   "source": [
    "# @ Author : Anirudh Sathish \n",
    "# @ Roll_no : CS20B1125 \n",
    "\n",
    "# Importing the neccesary libraries \n",
    "import pandas as pd \n",
    "import numpy as np \n",
    "from sklearn import preprocessing\n",
    "from sklearn.model_selection import train_test_split\n",
    "import random \n"
   ]
  },
  {
   "cell_type": "code",
   "execution_count": 17,
   "metadata": {},
   "outputs": [
    {
     "name": "stdout",
     "output_type": "stream",
     "text": [
      "<class 'pandas.core.frame.DataFrame'>\n",
      "RangeIndex: 768 entries, 0 to 767\n",
      "Data columns (total 8 columns):\n",
      " #   Column         Non-Null Count  Dtype  \n",
      "---  ------         --------------  -----  \n",
      " 0   Pregnancies    768 non-null    int64  \n",
      " 1   Glucose        768 non-null    int64  \n",
      " 2   BloodPressure  768 non-null    int64  \n",
      " 3   SkinThickness  768 non-null    int64  \n",
      " 4   Insulin        768 non-null    int64  \n",
      " 5   BMI            768 non-null    float64\n",
      " 6   Age            768 non-null    int64  \n",
      " 7   Outcome        768 non-null    int64  \n",
      "dtypes: float64(1), int64(7)\n",
      "memory usage: 48.1 KB\n"
     ]
    }
   ],
   "source": [
    "# Reading the file \n",
    "df = pd.read_csv(\"diabetes.csv\")\n",
    "df.head()\n",
    "df.info()"
   ]
  },
  {
   "cell_type": "code",
   "execution_count": 18,
   "metadata": {},
   "outputs": [],
   "source": [
    "\n",
    "# Glucose values are zero in some cases , removing them \n",
    "for ind in df.index :\n",
    "    if(df['Glucose'][ind] == 0):\n",
    "        df = df.drop(ind)"
   ]
  },
  {
   "cell_type": "code",
   "execution_count": 19,
   "metadata": {},
   "outputs": [],
   "source": [
    "# Now taking the columns that matter \n",
    "# After anlaysis Glucose , BMI ,Insulin seemed apt\n",
    "# Pregnancies seemed to have a relation , but not much clarity on what it means \n",
    "glucose_d = df.iloc[:,[1]]\n",
    "\n",
    "# This contains the output value\n",
    "diabetes_output = df.iloc[:,[7]]\n",
    "\n",
    "glucose_n = glucose_d.to_numpy()\n",
    "# Normalizing the vectors\n",
    "normalized_glucose = glucose_n / np.sqrt(np.sum(glucose_n**2))\n",
    "\n",
    "# Coverting them back to dataframes \n",
    "glucose_d = pd.DataFrame(normalized_glucose, columns = ['Glucose'])"
   ]
  },
  {
   "cell_type": "code",
   "execution_count": 20,
   "metadata": {},
   "outputs": [
    {
     "name": "stdout",
     "output_type": "stream",
     "text": [
      "      Glucose\n",
      "0    0.042708\n",
      "1    0.024528\n",
      "2    0.052808\n",
      "3    0.025683\n",
      "4    0.039534\n",
      "..        ...\n",
      "758  0.029146\n",
      "759  0.035206\n",
      "760  0.034917\n",
      "761  0.036360\n",
      "762  0.026837\n",
      "\n",
      "[763 rows x 1 columns]\n"
     ]
    }
   ],
   "source": [
    "diabetes_related_data = pd.concat([glucose_d] , axis=1)\n",
    "print(diabetes_related_data)"
   ]
  },
  {
   "cell_type": "code",
   "execution_count": 21,
   "metadata": {},
   "outputs": [],
   "source": [
    "# Splitting the data into test and training dataset\n",
    "X_train , X_test , Y_train , Y_test = train_test_split(diabetes_related_data ,diabetes_output , test_size=0.2 ,random_state = 42 )"
   ]
  },
  {
   "cell_type": "code",
   "execution_count": 22,
   "metadata": {},
   "outputs": [],
   "source": [
    "def PredictionScore(prediction,Y_test):\n",
    "    count = 0\n",
    "    value = 0\n",
    "    for col in Y_test:\n",
    "        res_col = col\n",
    "    for ind in Y_test.index :\n",
    "        if(prediction[count] == Y_test[res_col][ind] ):\n",
    "            value+=1\n",
    "        count+=1\n",
    "    print(\"Accurate prediction is : \",value/count)"
   ]
  },
  {
   "cell_type": "code",
   "execution_count": 23,
   "metadata": {},
   "outputs": [
    {
     "name": "stdout",
     "output_type": "stream",
     "text": [
      "610 1\n"
     ]
    }
   ],
   "source": [
    "val , featureCount = X_train.shape\n",
    "print(val,featureCount)"
   ]
  },
  {
   "cell_type": "code",
   "execution_count": 36,
   "metadata": {},
   "outputs": [],
   "source": [
    "# Assuming input is dataframe \n",
    "class MinimumDistanceClassifier(object):\n",
    "    def __init__(self,input_label,output_label,cluster):\n",
    "        self.io_label = input_label\n",
    "        self.op_label = output_label\n",
    "        self.cluster = cluster\n",
    "        self.size , self.attrCount = self.io_label.shape\n",
    "    def Fit(self):\n",
    "        x1 = 0\n",
    "        x2 = 0\n",
    "        Length = self.size\n",
    "        for column in Y_train:\n",
    "            res_col = column\n",
    "        for i in range(0,Length):\n",
    "            for column in self.io_label:    \n",
    "                if(self.op_label[res_col].iloc[i] == 1):\n",
    "                    x1 = (x1+X_train[column].iloc[i])/2\n",
    "                else:\n",
    "                    x2 = (x2+X_train[column].iloc[i])/2\n",
    "        self.x1 = x1\n",
    "        self.x2 = x2\n",
    "    def Predict(self,X_test):\n",
    "        pred = []\n",
    "        LengthTest = len(X_test)\n",
    "        for i in range(0,LengthTest):\n",
    "            for column in X_test:\n",
    "                if(abs(X_test[column].iloc[i] -self.x1)> abs(X_test[column].iloc[i] -self.x2)):\n",
    "                    pred.append(0)\n",
    "                else:\n",
    "                    pred.append(1)\n",
    "        pred = np.array(pred)\n",
    "        return pred\n",
    "\n",
    "class Kmeans(object):\n",
    "    def __init__(self,input_label,cluster):\n",
    "        self.io_label = input_label\n",
    "        self.cluster = cluster\n",
    "        self.size , self.attrCount = self.io_label.shape\n",
    "    def Fit(self):\n",
    "        self.x1 = random.uniform(0,1)\n",
    "        self.x2 = random.uniform(0,1)\n",
    "        values_List = []\n",
    "        Length = self.size\n",
    "        for column in Y_train:\n",
    "            res_col = column\n",
    "        for i in range(0,Length):\n",
    "            for column in self.io_label:    \n",
    "                if(abs(self.io_label[column].iloc[i] - self.x1)> abs(self.io_label[column].iloc[i] -self.x2)):\n",
    "                    self.x1 = (self.x1+X_train[column].iloc[i])/2\n",
    "                    value = 1\n",
    "                    values_List.append(value)\n",
    "                else:\n",
    "                    self.x2 = (self.x2+X_train[column].iloc[i])/2\n",
    "                    value = 0\n",
    "                    values_List.append(value)\n",
    "        self.prev = np.array(values_List)\n",
    "        self.present = np.array(values_List)\n",
    "        comparison = self.prev == self.present\n",
    "        equal_arrays = comparison.all()\n",
    "\n",
    "        iteration = 0\n",
    "        happen = True\n",
    "        while(happen == True):\n",
    "            self.prev = np.array(values_List)\n",
    "            values_List = []\n",
    "            for i in range(0,Length):\n",
    "                for column in self.io_label:    \n",
    "                    if(abs(self.io_label[column].iloc[i] - self.x1)> abs(self.io_label[column].iloc[i] -self.x2)):\n",
    "                        self.x1 = (self.x1+X_train[column].iloc[i])/2\n",
    "                        value = 1\n",
    "                        values_List.append(value)\n",
    "                    else:\n",
    "                        self.x2 = (self.x2+X_train[column].iloc[i])/2\n",
    "                        value = 0\n",
    "                        values_List.append(value)\n",
    "            iteration +=1\n",
    "            self.present = np.array(values_List)\n",
    "            comparison = self.prev == self.present\n",
    "            equal_arrays = comparison.all()\n",
    "            if(equal_arrays == True):\n",
    "                break\n",
    "            if(iteration > 1000):\n",
    "                break\n",
    "\n",
    "        # Now Run the iterations to check if the \n",
    "        # converging condition has been achieved\n",
    "    def CheckTrue(self,past):\n",
    "        if(self.x1 == past[0] and self.x2 == past[1]):\n",
    "            return True\n",
    "        return False\n",
    "\n",
    "    def Predict(self,X_test):\n",
    "        pred = []\n",
    "        LengthTest = len(X_test)\n",
    "        for i in range(0,LengthTest):\n",
    "            for column in X_test:\n",
    "                if(abs(X_test[column].iloc[i] -self.x1)> abs(X_test[column].iloc[i] -self.x2)):\n",
    "                    pred.append(0)\n",
    "                else:\n",
    "                    pred.append(1)\n",
    "        pred = np.array(pred)\n",
    "        return pred\n",
    "        \n",
    "     \n",
    "\n",
    "        \n"
   ]
  },
  {
   "cell_type": "code",
   "execution_count": 37,
   "metadata": {},
   "outputs": [
    {
     "name": "stdout",
     "output_type": "stream",
     "text": [
      "[1 1 1 1 1 0 0 1 0 1 1 1 0 1 0 0 0 1 1 1 1 0 1 1 1 1 0 1 0 1 0 0 0 1 1 1 0\n",
      " 0 1 0 1 0 0 0 1 1 1 0 0 1 0 0 0 1 1 0 1 0 1 1 0 1 1 1 0 1 1 0 0 0 1 1 0 0\n",
      " 0 0 1 1 0 0 0 0 0 0 1 0 0 1 1 0 1 0 1 0 1 1 1 1 1 0 1 1 0 0 0 1 0 0 0 0 1\n",
      " 0 1 1 1 0 1 1 1 1 0 1 0 1 1 0 0 0 0 0 1 1 1 1 1 0 0 1 1 0 0 0 0 1 0 1 0 1\n",
      " 0 0 1 1 1]\n"
     ]
    }
   ],
   "source": [
    "m = MinimumDistanceClassifier(X_train,Y_train,2)\n",
    "m.Fit()\n",
    "preds = m.Predict(X_test)\n",
    "print(preds)\n"
   ]
  },
  {
   "cell_type": "code",
   "execution_count": 38,
   "metadata": {},
   "outputs": [
    {
     "name": "stdout",
     "output_type": "stream",
     "text": [
      "Accurate prediction is :  0.6470588235294118\n"
     ]
    }
   ],
   "source": [
    "PredictionScore(preds,Y_test)"
   ]
  },
  {
   "cell_type": "code",
   "execution_count": 39,
   "metadata": {},
   "outputs": [
    {
     "name": "stdout",
     "output_type": "stream",
     "text": [
      "Iteration is  1\n",
      "Iteration is  2\n",
      "Equal break\n",
      "[0 0 0 0 0 0 1 0 1 0 0 0 1 0 1 1 1 0 0 0 0 1 0 0 0 0 0 0 0 0 0 0 0 0 0 0 1\n",
      " 1 0 1 0 1 1 1 0 0 0 1 1 0 1 0 1 0 0 1 0 1 0 0 0 0 0 0 1 0 0 1 1 1 0 0 0 1\n",
      " 1 0 0 0 0 1 1 1 1 1 0 1 1 0 0 0 0 1 0 1 0 0 0 0 0 1 0 0 1 1 1 0 1 1 1 1 0\n",
      " 0 0 0 0 1 0 0 0 0 1 0 1 0 0 1 1 1 1 1 0 0 0 0 0 1 1 0 0 1 0 1 1 0 1 0 1 0\n",
      " 1 1 0 0 0]\n",
      "Accurate prediction is :  0.3790849673202614\n"
     ]
    }
   ],
   "source": [
    "kmn = Kmeans(X_train,2)\n",
    "kmn.Fit()\n",
    "kpred = kmn.Predict(X_test)\n",
    "print(kpred)\n",
    "PredictionScore(kpred,Y_test)"
   ]
  },
  {
   "cell_type": "code",
   "execution_count": 40,
   "metadata": {},
   "outputs": [
    {
     "name": "stdout",
     "output_type": "stream",
     "text": [
      "Iteration is  1\n",
      "Iteration is  2\n",
      "Equal break\n"
     ]
    }
   ],
   "source": [
    "kmn = Kmeans(X_train,2)\n",
    "kmn.Fit()"
   ]
  },
  {
   "cell_type": "code",
   "execution_count": 47,
   "metadata": {},
   "outputs": [
    {
     "name": "stdout",
     "output_type": "stream",
     "text": [
      "False\n"
     ]
    }
   ],
   "source": [
    "an_array = np.array([[1, 2 ,3, 4]])\n",
    "another_array = np.array([[1, 2,6, 4]])\n",
    " \n",
    "comparison = an_array == another_array\n",
    "equal_arrays = comparison.all()\n",
    " \n",
    "print(equal_arrays)"
   ]
  },
  {
   "cell_type": "code",
   "execution_count": null,
   "metadata": {},
   "outputs": [],
   "source": []
  }
 ],
 "metadata": {
  "kernelspec": {
   "display_name": "Python 3.9.2 64-bit",
   "language": "python",
   "name": "python3"
  },
  "language_info": {
   "codemirror_mode": {
    "name": "ipython",
    "version": 3
   },
   "file_extension": ".py",
   "mimetype": "text/x-python",
   "name": "python",
   "nbconvert_exporter": "python",
   "pygments_lexer": "ipython3",
   "version": "3.9.2"
  },
  "orig_nbformat": 4,
  "vscode": {
   "interpreter": {
    "hash": "8c93b56f12893a73f3fb26b619faf35eb67f0f4410719b74190040acf104b72e"
   }
  }
 },
 "nbformat": 4,
 "nbformat_minor": 2
}
