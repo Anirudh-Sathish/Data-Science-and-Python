{
 "cells": [
  {
   "cell_type": "code",
   "execution_count": 32,
   "id": "d44c955c",
   "metadata": {},
   "outputs": [],
   "source": [
    "#Defining the libraries \n",
    "import os \n",
    "import pandas as pd \n",
    "import numpy as np \n",
    "import matplotlib.pyplot as plt \n",
    "import seaborn as sns"
   ]
  },
  {
   "cell_type": "code",
   "execution_count": 33,
   "id": "6aa94f24",
   "metadata": {},
   "outputs": [],
   "source": [
    "#Reading the data \n",
    "diabetes_person = pd.read_csv(\"./diabetes.csv\")"
   ]
  },
  {
   "cell_type": "code",
   "execution_count": 34,
   "id": "246622fd",
   "metadata": {},
   "outputs": [
    {
     "name": "stdout",
     "output_type": "stream",
     "text": [
      "     Pregnancies  Glucose  BloodPressure  SkinThickness  Insulin   BMI  Age  \\\n",
      "0              6      148             72             35        0  33.6   50   \n",
      "1              1       85             66             29        0  26.6   31   \n",
      "2              8      183             64              0        0  23.3   32   \n",
      "3              1       89             66             23       94  28.1   21   \n",
      "4              0      137             40             35      168  43.1   33   \n",
      "..           ...      ...            ...            ...      ...   ...  ...   \n",
      "763           10      101             76             48      180  32.9   63   \n",
      "764            2      122             70             27        0  36.8   27   \n",
      "765            5      121             72             23      112  26.2   30   \n",
      "766            1      126             60              0        0  30.1   47   \n",
      "767            1       93             70             31        0  30.4   23   \n",
      "\n",
      "     Outcome  \n",
      "0          1  \n",
      "1          0  \n",
      "2          1  \n",
      "3          0  \n",
      "4          1  \n",
      "..       ...  \n",
      "763        0  \n",
      "764        0  \n",
      "765        0  \n",
      "766        1  \n",
      "767        0  \n",
      "\n",
      "[768 rows x 8 columns]\n"
     ]
    }
   ],
   "source": [
    "print(diabetes_person)"
   ]
  },
  {
   "cell_type": "code",
   "execution_count": 35,
   "id": "748bdcb2",
   "metadata": {},
   "outputs": [
    {
     "name": "stdout",
     "output_type": "stream",
     "text": [
      "<class 'pandas.core.frame.DataFrame'>\n",
      "RangeIndex: 768 entries, 0 to 767\n",
      "Data columns (total 8 columns):\n",
      " #   Column         Non-Null Count  Dtype  \n",
      "---  ------         --------------  -----  \n",
      " 0   Pregnancies    768 non-null    int64  \n",
      " 1   Glucose        768 non-null    int64  \n",
      " 2   BloodPressure  768 non-null    int64  \n",
      " 3   SkinThickness  768 non-null    int64  \n",
      " 4   Insulin        768 non-null    int64  \n",
      " 5   BMI            768 non-null    float64\n",
      " 6   Age            768 non-null    int64  \n",
      " 7   Outcome        768 non-null    int64  \n",
      "dtypes: float64(1), int64(7)\n",
      "memory usage: 48.1 KB\n"
     ]
    }
   ],
   "source": [
    "diabetes_person.info()"
   ]
  },
  {
   "cell_type": "code",
   "execution_count": 36,
   "id": "e6782fed",
   "metadata": {},
   "outputs": [
    {
     "data": {
      "text/plain": [
       "'\\nThis is a dataset regarding feamales of pima heritage \\nPregnancies: Number of times pregnant\\nGlucose: Plasma glucose concentration a 2 hours in an oral glucose tolerance test\\nBloodPressure: Diastolic blood pressure (mm Hg)\\nSkinThickness: Triceps skin fold thickness (mm)\\nInsulin: 2-Hour serum insulin (mu U/ml)\\nBMI: Body mass index (weight in kg/(height in m)^2)\\nDiabetesPedigreeFunction: Diabetes pedigree function\\nAge: Age (years)\\nOutcome: Class variable (0 or 1)\\n'"
      ]
     },
     "execution_count": 36,
     "metadata": {},
     "output_type": "execute_result"
    }
   ],
   "source": [
    "# What does each of the data mean : \n",
    "\"\"\"\n",
    "This is a dataset regarding feamales of pima heritage \n",
    "Pregnancies: Number of times pregnant\n",
    "Glucose: Plasma glucose concentration a 2 hours in an oral glucose tolerance test\n",
    "BloodPressure: Diastolic blood pressure (mm Hg)\n",
    "SkinThickness: Triceps skin fold thickness (mm)\n",
    "Insulin: 2-Hour serum insulin (mu U/ml)\n",
    "BMI: Body mass index (weight in kg/(height in m)^2)\n",
    "DiabetesPedigreeFunction: Diabetes pedigree function\n",
    "Age: Age (years)\n",
    "Outcome: Class variable (0 or 1)\n",
    "\"\"\""
   ]
  },
  {
   "cell_type": "code",
   "execution_count": 37,
   "id": "3f03750c",
   "metadata": {},
   "outputs": [
    {
     "data": {
      "text/html": [
       "<div>\n",
       "<style scoped>\n",
       "    .dataframe tbody tr th:only-of-type {\n",
       "        vertical-align: middle;\n",
       "    }\n",
       "\n",
       "    .dataframe tbody tr th {\n",
       "        vertical-align: top;\n",
       "    }\n",
       "\n",
       "    .dataframe thead th {\n",
       "        text-align: right;\n",
       "    }\n",
       "</style>\n",
       "<table border=\"1\" class=\"dataframe\">\n",
       "  <thead>\n",
       "    <tr style=\"text-align: right;\">\n",
       "      <th></th>\n",
       "      <th>Pregnancies</th>\n",
       "      <th>Glucose</th>\n",
       "      <th>BloodPressure</th>\n",
       "      <th>SkinThickness</th>\n",
       "      <th>Insulin</th>\n",
       "      <th>BMI</th>\n",
       "      <th>Age</th>\n",
       "      <th>Outcome</th>\n",
       "    </tr>\n",
       "  </thead>\n",
       "  <tbody>\n",
       "    <tr>\n",
       "      <th>count</th>\n",
       "      <td>768.000000</td>\n",
       "      <td>768.000000</td>\n",
       "      <td>768.000000</td>\n",
       "      <td>768.000000</td>\n",
       "      <td>768.000000</td>\n",
       "      <td>768.000000</td>\n",
       "      <td>768.000000</td>\n",
       "      <td>768.000000</td>\n",
       "    </tr>\n",
       "    <tr>\n",
       "      <th>mean</th>\n",
       "      <td>3.845052</td>\n",
       "      <td>120.894531</td>\n",
       "      <td>69.105469</td>\n",
       "      <td>20.536458</td>\n",
       "      <td>79.799479</td>\n",
       "      <td>31.992578</td>\n",
       "      <td>33.240885</td>\n",
       "      <td>0.348958</td>\n",
       "    </tr>\n",
       "    <tr>\n",
       "      <th>std</th>\n",
       "      <td>3.369578</td>\n",
       "      <td>31.972618</td>\n",
       "      <td>19.355807</td>\n",
       "      <td>15.952218</td>\n",
       "      <td>115.244002</td>\n",
       "      <td>7.884160</td>\n",
       "      <td>11.760232</td>\n",
       "      <td>0.476951</td>\n",
       "    </tr>\n",
       "    <tr>\n",
       "      <th>min</th>\n",
       "      <td>0.000000</td>\n",
       "      <td>0.000000</td>\n",
       "      <td>0.000000</td>\n",
       "      <td>0.000000</td>\n",
       "      <td>0.000000</td>\n",
       "      <td>0.000000</td>\n",
       "      <td>21.000000</td>\n",
       "      <td>0.000000</td>\n",
       "    </tr>\n",
       "    <tr>\n",
       "      <th>25%</th>\n",
       "      <td>1.000000</td>\n",
       "      <td>99.000000</td>\n",
       "      <td>62.000000</td>\n",
       "      <td>0.000000</td>\n",
       "      <td>0.000000</td>\n",
       "      <td>27.300000</td>\n",
       "      <td>24.000000</td>\n",
       "      <td>0.000000</td>\n",
       "    </tr>\n",
       "    <tr>\n",
       "      <th>50%</th>\n",
       "      <td>3.000000</td>\n",
       "      <td>117.000000</td>\n",
       "      <td>72.000000</td>\n",
       "      <td>23.000000</td>\n",
       "      <td>30.500000</td>\n",
       "      <td>32.000000</td>\n",
       "      <td>29.000000</td>\n",
       "      <td>0.000000</td>\n",
       "    </tr>\n",
       "    <tr>\n",
       "      <th>75%</th>\n",
       "      <td>6.000000</td>\n",
       "      <td>140.250000</td>\n",
       "      <td>80.000000</td>\n",
       "      <td>32.000000</td>\n",
       "      <td>127.250000</td>\n",
       "      <td>36.600000</td>\n",
       "      <td>41.000000</td>\n",
       "      <td>1.000000</td>\n",
       "    </tr>\n",
       "    <tr>\n",
       "      <th>max</th>\n",
       "      <td>17.000000</td>\n",
       "      <td>199.000000</td>\n",
       "      <td>122.000000</td>\n",
       "      <td>99.000000</td>\n",
       "      <td>846.000000</td>\n",
       "      <td>67.100000</td>\n",
       "      <td>81.000000</td>\n",
       "      <td>1.000000</td>\n",
       "    </tr>\n",
       "  </tbody>\n",
       "</table>\n",
       "</div>"
      ],
      "text/plain": [
       "       Pregnancies     Glucose  BloodPressure  SkinThickness     Insulin  \\\n",
       "count   768.000000  768.000000     768.000000     768.000000  768.000000   \n",
       "mean      3.845052  120.894531      69.105469      20.536458   79.799479   \n",
       "std       3.369578   31.972618      19.355807      15.952218  115.244002   \n",
       "min       0.000000    0.000000       0.000000       0.000000    0.000000   \n",
       "25%       1.000000   99.000000      62.000000       0.000000    0.000000   \n",
       "50%       3.000000  117.000000      72.000000      23.000000   30.500000   \n",
       "75%       6.000000  140.250000      80.000000      32.000000  127.250000   \n",
       "max      17.000000  199.000000     122.000000      99.000000  846.000000   \n",
       "\n",
       "              BMI         Age     Outcome  \n",
       "count  768.000000  768.000000  768.000000  \n",
       "mean    31.992578   33.240885    0.348958  \n",
       "std      7.884160   11.760232    0.476951  \n",
       "min      0.000000   21.000000    0.000000  \n",
       "25%     27.300000   24.000000    0.000000  \n",
       "50%     32.000000   29.000000    0.000000  \n",
       "75%     36.600000   41.000000    1.000000  \n",
       "max     67.100000   81.000000    1.000000  "
      ]
     },
     "execution_count": 37,
     "metadata": {},
     "output_type": "execute_result"
    }
   ],
   "source": [
    "diabetes_person.describe()"
   ]
  },
  {
   "cell_type": "code",
   "execution_count": 38,
   "id": "8f2c5d55",
   "metadata": {},
   "outputs": [],
   "source": [
    "# It shows that there are certain individuals with 0 BMI , dont think that is possible , is it ? \n",
    "#Same thing with blood pressure , skin thickness "
   ]
  },
  {
   "cell_type": "code",
   "execution_count": 39,
   "id": "7cd423dd",
   "metadata": {},
   "outputs": [
    {
     "data": {
      "text/plain": [
       "Pregnancies      0\n",
       "Glucose          0\n",
       "BloodPressure    0\n",
       "SkinThickness    0\n",
       "Insulin          0\n",
       "BMI              0\n",
       "Age              0\n",
       "Outcome          0\n",
       "dtype: int64"
      ]
     },
     "execution_count": 39,
     "metadata": {},
     "output_type": "execute_result"
    }
   ],
   "source": [
    "# Cleaning the data \n",
    "# Checking if there are any null Values\n",
    "diabetes_person.isnull().sum()"
   ]
  },
  {
   "cell_type": "code",
   "execution_count": 40,
   "id": "9c2dcda2",
   "metadata": {},
   "outputs": [
    {
     "data": {
      "text/plain": [
       "<AxesSubplot:>"
      ]
     },
     "execution_count": 40,
     "metadata": {},
     "output_type": "execute_result"
    },
    {
     "data": {
      "image/png": "[encoded data removed]",
      "text/plain": [
       "<Figure size 1440x432 with 3 Axes>"
      ]
     },
     "metadata": {
      "needs_background": "light"
     },
     "output_type": "display_data"
    }
   ],
   "source": [
    "# From above , we can see that there are no null values \n",
    "plt.figure(figsize=(20,6))\n",
    "\n",
    "plt.subplot(1,3,1)\n",
    "diabetes_person.boxplot('Pregnancies')\n",
    "plt.subplot(1,3,2)\n",
    "diabetes_person.boxplot('Glucose')\n",
    "plt.subplot(1,3,3)\n",
    "diabetes_person.boxplot('BloodPressure')"
   ]
  },
  {
   "cell_type": "code",
   "execution_count": 41,
   "id": "93857fb4",
   "metadata": {},
   "outputs": [
    {
     "data": {
      "text/plain": [
       "<AxesSubplot:>"
      ]
     },
     "execution_count": 41,
     "metadata": {},
     "output_type": "execute_result"
    },
    {
     "data": {
      "image/png": "[encoded data removed]",
      "text/plain": [
       "<Figure size 1440x432 with 3 Axes>"
      ]
     },
     "metadata": {
      "needs_background": "light"
     },
     "output_type": "display_data"
    }
   ],
   "source": [
    "plt.figure(figsize=(20,6))\n",
    "plt.subplot(2,3,1)\n",
    "diabetes_person.boxplot('SkinThickness')\n",
    "plt.subplot(2,3,2)\n",
    "diabetes_person.boxplot('Insulin')\n",
    "plt.subplot(2,3,3)\n",
    "diabetes_person.boxplot('BMI')"
   ]
  },
  {
   "cell_type": "code",
   "execution_count": 43,
   "id": "4da2a7cf",
   "metadata": {},
   "outputs": [
    {
     "name": "stderr",
     "output_type": "stream",
     "text": [
      "C:\\Users\\aniru\\anaconda3\\envs\\pytorch\\lib\\site-packages\\seaborn\\_decorators.py:43: FutureWarning: Pass the following variable as a keyword arg: x. From version 0.12, the only valid positional argument will be `data`, and passing other arguments without an explicit keyword will result in an error or misinterpretation.\n",
      "  FutureWarning\n",
      "C:\\Users\\aniru\\anaconda3\\envs\\pytorch\\lib\\site-packages\\seaborn\\_decorators.py:43: FutureWarning: Pass the following variable as a keyword arg: x. From version 0.12, the only valid positional argument will be `data`, and passing other arguments without an explicit keyword will result in an error or misinterpretation.\n",
      "  FutureWarning\n",
      "C:\\Users\\aniru\\anaconda3\\envs\\pytorch\\lib\\site-packages\\seaborn\\_decorators.py:43: FutureWarning: Pass the following variable as a keyword arg: x. From version 0.12, the only valid positional argument will be `data`, and passing other arguments without an explicit keyword will result in an error or misinterpretation.\n",
      "  FutureWarning\n",
      "C:\\Users\\aniru\\anaconda3\\envs\\pytorch\\lib\\site-packages\\seaborn\\_decorators.py:43: FutureWarning: Pass the following variable as a keyword arg: x. From version 0.12, the only valid positional argument will be `data`, and passing other arguments without an explicit keyword will result in an error or misinterpretation.\n",
      "  FutureWarning\n",
      "C:\\Users\\aniru\\anaconda3\\envs\\pytorch\\lib\\site-packages\\seaborn\\_decorators.py:43: FutureWarning: Pass the following variable as a keyword arg: x. From version 0.12, the only valid positional argument will be `data`, and passing other arguments without an explicit keyword will result in an error or misinterpretation.\n",
      "  FutureWarning\n",
      "C:\\Users\\aniru\\anaconda3\\envs\\pytorch\\lib\\site-packages\\seaborn\\_decorators.py:43: FutureWarning: Pass the following variable as a keyword arg: x. From version 0.12, the only valid positional argument will be `data`, and passing other arguments without an explicit keyword will result in an error or misinterpretation.\n",
      "  FutureWarning\n",
      "C:\\Users\\aniru\\anaconda3\\envs\\pytorch\\lib\\site-packages\\seaborn\\_decorators.py:43: FutureWarning: Pass the following variable as a keyword arg: x. From version 0.12, the only valid positional argument will be `data`, and passing other arguments without an explicit keyword will result in an error or misinterpretation.\n",
      "  FutureWarning\n"
     ]
    },
    {
     "data": {
      "image/png": "[encoded data removed]",
      "text/plain": [
       "<Figure size 2160x1080 with 7 Axes>"
      ]
     },
     "metadata": {
      "needs_background": "light"
     },
     "output_type": "display_data"
    }
   ],
   "source": [
    "col=['Pregnancies','Glucose','BloodPressure', 'SkinThickness','Insulin','BMI','Age']\n",
    "n=np.arange(0,8)\n",
    "plt.figure(figsize=(30,15))\n",
    "\n",
    "for i,k in zip(col,n):\n",
    "    sns.boxplot(diabetes_person[i])\n",
    "    plt.subplot(3,3,k+1)"
   ]
  },
  {
   "cell_type": "code",
   "execution_count": 44,
   "id": "aa84063c",
   "metadata": {},
   "outputs": [
    {
     "data": {
      "text/html": [
       "<div>\n",
       "<style scoped>\n",
       "    .dataframe tbody tr th:only-of-type {\n",
       "        vertical-align: middle;\n",
       "    }\n",
       "\n",
       "    .dataframe tbody tr th {\n",
       "        vertical-align: top;\n",
       "    }\n",
       "\n",
       "    .dataframe thead th {\n",
       "        text-align: right;\n",
       "    }\n",
       "</style>\n",
       "<table border=\"1\" class=\"dataframe\">\n",
       "  <thead>\n",
       "    <tr style=\"text-align: right;\">\n",
       "      <th></th>\n",
       "      <th>Pregnancies</th>\n",
       "      <th>Glucose</th>\n",
       "      <th>BloodPressure</th>\n",
       "      <th>SkinThickness</th>\n",
       "      <th>Insulin</th>\n",
       "      <th>BMI</th>\n",
       "      <th>Age</th>\n",
       "      <th>Outcome</th>\n",
       "    </tr>\n",
       "  </thead>\n",
       "  <tbody>\n",
       "    <tr>\n",
       "      <th>0</th>\n",
       "      <td>NaN</td>\n",
       "      <td>NaN</td>\n",
       "      <td>NaN</td>\n",
       "      <td>NaN</td>\n",
       "      <td>0.0</td>\n",
       "      <td>NaN</td>\n",
       "      <td>NaN</td>\n",
       "      <td>NaN</td>\n",
       "    </tr>\n",
       "    <tr>\n",
       "      <th>1</th>\n",
       "      <td>NaN</td>\n",
       "      <td>NaN</td>\n",
       "      <td>NaN</td>\n",
       "      <td>NaN</td>\n",
       "      <td>0.0</td>\n",
       "      <td>NaN</td>\n",
       "      <td>NaN</td>\n",
       "      <td>0.0</td>\n",
       "    </tr>\n",
       "    <tr>\n",
       "      <th>2</th>\n",
       "      <td>NaN</td>\n",
       "      <td>NaN</td>\n",
       "      <td>NaN</td>\n",
       "      <td>0.0</td>\n",
       "      <td>0.0</td>\n",
       "      <td>NaN</td>\n",
       "      <td>NaN</td>\n",
       "      <td>NaN</td>\n",
       "    </tr>\n",
       "    <tr>\n",
       "      <th>3</th>\n",
       "      <td>NaN</td>\n",
       "      <td>NaN</td>\n",
       "      <td>NaN</td>\n",
       "      <td>NaN</td>\n",
       "      <td>NaN</td>\n",
       "      <td>NaN</td>\n",
       "      <td>NaN</td>\n",
       "      <td>0.0</td>\n",
       "    </tr>\n",
       "    <tr>\n",
       "      <th>4</th>\n",
       "      <td>0.0</td>\n",
       "      <td>NaN</td>\n",
       "      <td>NaN</td>\n",
       "      <td>NaN</td>\n",
       "      <td>NaN</td>\n",
       "      <td>NaN</td>\n",
       "      <td>NaN</td>\n",
       "      <td>NaN</td>\n",
       "    </tr>\n",
       "    <tr>\n",
       "      <th>...</th>\n",
       "      <td>...</td>\n",
       "      <td>...</td>\n",
       "      <td>...</td>\n",
       "      <td>...</td>\n",
       "      <td>...</td>\n",
       "      <td>...</td>\n",
       "      <td>...</td>\n",
       "      <td>...</td>\n",
       "    </tr>\n",
       "    <tr>\n",
       "      <th>763</th>\n",
       "      <td>NaN</td>\n",
       "      <td>NaN</td>\n",
       "      <td>NaN</td>\n",
       "      <td>NaN</td>\n",
       "      <td>NaN</td>\n",
       "      <td>NaN</td>\n",
       "      <td>NaN</td>\n",
       "      <td>0.0</td>\n",
       "    </tr>\n",
       "    <tr>\n",
       "      <th>764</th>\n",
       "      <td>NaN</td>\n",
       "      <td>NaN</td>\n",
       "      <td>NaN</td>\n",
       "      <td>NaN</td>\n",
       "      <td>0.0</td>\n",
       "      <td>NaN</td>\n",
       "      <td>NaN</td>\n",
       "      <td>0.0</td>\n",
       "    </tr>\n",
       "    <tr>\n",
       "      <th>765</th>\n",
       "      <td>NaN</td>\n",
       "      <td>NaN</td>\n",
       "      <td>NaN</td>\n",
       "      <td>NaN</td>\n",
       "      <td>NaN</td>\n",
       "      <td>NaN</td>\n",
       "      <td>NaN</td>\n",
       "      <td>0.0</td>\n",
       "    </tr>\n",
       "    <tr>\n",
       "      <th>766</th>\n",
       "      <td>NaN</td>\n",
       "      <td>NaN</td>\n",
       "      <td>NaN</td>\n",
       "      <td>0.0</td>\n",
       "      <td>0.0</td>\n",
       "      <td>NaN</td>\n",
       "      <td>NaN</td>\n",
       "      <td>NaN</td>\n",
       "    </tr>\n",
       "    <tr>\n",
       "      <th>767</th>\n",
       "      <td>NaN</td>\n",
       "      <td>NaN</td>\n",
       "      <td>NaN</td>\n",
       "      <td>NaN</td>\n",
       "      <td>0.0</td>\n",
       "      <td>NaN</td>\n",
       "      <td>NaN</td>\n",
       "      <td>0.0</td>\n",
       "    </tr>\n",
       "  </tbody>\n",
       "</table>\n",
       "<p>763 rows × 8 columns</p>\n",
       "</div>"
      ],
      "text/plain": [
       "     Pregnancies  Glucose  BloodPressure  SkinThickness  Insulin  BMI  Age  \\\n",
       "0            NaN      NaN            NaN            NaN      0.0  NaN  NaN   \n",
       "1            NaN      NaN            NaN            NaN      0.0  NaN  NaN   \n",
       "2            NaN      NaN            NaN            0.0      0.0  NaN  NaN   \n",
       "3            NaN      NaN            NaN            NaN      NaN  NaN  NaN   \n",
       "4            0.0      NaN            NaN            NaN      NaN  NaN  NaN   \n",
       "..           ...      ...            ...            ...      ...  ...  ...   \n",
       "763          NaN      NaN            NaN            NaN      NaN  NaN  NaN   \n",
       "764          NaN      NaN            NaN            NaN      0.0  NaN  NaN   \n",
       "765          NaN      NaN            NaN            NaN      NaN  NaN  NaN   \n",
       "766          NaN      NaN            NaN            0.0      0.0  NaN  NaN   \n",
       "767          NaN      NaN            NaN            NaN      0.0  NaN  NaN   \n",
       "\n",
       "     Outcome  \n",
       "0        NaN  \n",
       "1        0.0  \n",
       "2        NaN  \n",
       "3        0.0  \n",
       "4        NaN  \n",
       "..       ...  \n",
       "763      0.0  \n",
       "764      0.0  \n",
       "765      0.0  \n",
       "766      NaN  \n",
       "767      0.0  \n",
       "\n",
       "[763 rows x 8 columns]"
      ]
     },
     "execution_count": 44,
     "metadata": {},
     "output_type": "execute_result"
    }
   ],
   "source": [
    "df[df==0]"
   ]
  },
  {
   "cell_type": "code",
   "execution_count": 45,
   "id": "2b76cf88",
   "metadata": {},
   "outputs": [],
   "source": [
    "x=df.iloc[:,0:-1]\n",
    "y=df.iloc[:,-1]"
   ]
  },
  {
   "cell_type": "code",
   "execution_count": 46,
   "id": "c98b4ccd",
   "metadata": {},
   "outputs": [
    {
     "name": "stdout",
     "output_type": "stream",
     "text": [
      "     Pregnancies  Glucose  BloodPressure  SkinThickness  Insulin   BMI  Age\n",
      "0              6      148             72             35        0  33.6   50\n",
      "1              1       85             66             29        0  26.6   31\n",
      "2              8      183             64              0        0  23.3   32\n",
      "3              1       89             66             23       94  28.1   21\n",
      "4              0      137             40             35      168  43.1   33\n",
      "..           ...      ...            ...            ...      ...   ...  ...\n",
      "763           10      101             76             48      180  32.9   63\n",
      "764            2      122             70             27        0  36.8   27\n",
      "765            5      121             72             23      112  26.2   30\n",
      "766            1      126             60              0        0  30.1   47\n",
      "767            1       93             70             31        0  30.4   23\n",
      "\n",
      "[763 rows x 7 columns]\n"
     ]
    }
   ],
   "source": [
    "print(x)"
   ]
  },
  {
   "cell_type": "code",
   "execution_count": 47,
   "id": "17200772",
   "metadata": {},
   "outputs": [
    {
     "data": {
      "text/plain": [
       "0    497\n",
       "1    266\n",
       "Name: Outcome, dtype: int64"
      ]
     },
     "execution_count": 47,
     "metadata": {},
     "output_type": "execute_result"
    }
   ],
   "source": [
    "y.value_counts() ## no undersampling required"
   ]
  },
  {
   "cell_type": "code",
   "execution_count": 48,
   "id": "ae93f386",
   "metadata": {},
   "outputs": [],
   "source": [
    "x.fillna(x.mean(),inplace=True)"
   ]
  },
  {
   "cell_type": "code",
   "execution_count": 49,
   "id": "d896b457",
   "metadata": {},
   "outputs": [
    {
     "name": "stdout",
     "output_type": "stream",
     "text": [
      "     Pregnancies  Glucose  BloodPressure  SkinThickness  Insulin   BMI  Age\n",
      "0              6      148             72             35        0  33.6   50\n",
      "1              1       85             66             29        0  26.6   31\n",
      "2              8      183             64              0        0  23.3   32\n",
      "3              1       89             66             23       94  28.1   21\n",
      "4              0      137             40             35      168  43.1   33\n",
      "..           ...      ...            ...            ...      ...   ...  ...\n",
      "763           10      101             76             48      180  32.9   63\n",
      "764            2      122             70             27        0  36.8   27\n",
      "765            5      121             72             23      112  26.2   30\n",
      "766            1      126             60              0        0  30.1   47\n",
      "767            1       93             70             31        0  30.4   23\n",
      "\n",
      "[763 rows x 7 columns]\n"
     ]
    }
   ],
   "source": [
    "print(x)"
   ]
  },
  {
   "cell_type": "code",
   "execution_count": 62,
   "id": "9eae3345",
   "metadata": {},
   "outputs": [],
   "source": [
    "# Now taking the columns that matter \n",
    "# After anlaysis Glucose , BMI ,Insulin seemed apt\n",
    "# Pregnancies seemed to have a relation , but not much clarity on what it means \n",
    "glucose_d = df.iloc[:,[1]]\n",
    "preg_d = df.iloc[:,[0]]\n",
    "# This contains the output value\n",
    "diabetes_output = df.iloc[:,[7]]\n",
    "\n",
    "glucose_n = glucose_d.to_numpy()\n",
    "# Normalizing the vectors\n",
    "normalized_glucose = glucose_n / np.sqrt(np.sum(glucose_n**2))\n",
    "# Coverting them back to dataframes \n",
    "glucose_d = pd.DataFrame(normalized_glucose, columns = ['Glucose'])"
   ]
  },
  {
   "cell_type": "code",
   "execution_count": 63,
   "id": "04144514",
   "metadata": {},
   "outputs": [
    {
     "name": "stdout",
     "output_type": "stream",
     "text": [
      "      Glucose\n",
      "0    0.042708\n",
      "1    0.024528\n",
      "2    0.052808\n",
      "3    0.025683\n",
      "4    0.039534\n",
      "..        ...\n",
      "758  0.029146\n",
      "759  0.035206\n",
      "760  0.034917\n",
      "761  0.036360\n",
      "762  0.026837\n",
      "\n",
      "[763 rows x 1 columns]\n"
     ]
    }
   ],
   "source": [
    "diabetes_related_data = pd.concat([glucose_d] , axis=1)\n",
    "print(diabetes_related_data)"
   ]
  },
  {
   "cell_type": "code",
   "execution_count": 64,
   "id": "4840ec4f",
   "metadata": {},
   "outputs": [],
   "source": [
    "# Splitting the data into test and training dataset\n",
    "X_train , X_test , Y_train , Y_test = train_test_split(diabetes_related_data ,diabetes_output , test_size=0.2 ,random_state = 42 )"
   ]
  },
  {
   "cell_type": "code",
   "execution_count": 65,
   "id": "77298e02",
   "metadata": {},
   "outputs": [
    {
     "name": "stdout",
     "output_type": "stream",
     "text": [
      "      Glucose\n",
      "336  0.043863\n",
      "723  0.050500\n",
      "290  0.036937\n",
      "685  0.030877\n",
      "90   0.035494\n",
      "..        ...\n",
      "71   0.040111\n",
      "106  0.041554\n",
      "270  0.035206\n",
      "435  0.030877\n",
      "102  0.023374\n",
      "\n",
      "[610 rows x 1 columns]\n"
     ]
    }
   ],
   "source": [
    "print(X_train)"
   ]
  },
  {
   "cell_type": "code",
   "execution_count": 66,
   "id": "4f339518",
   "metadata": {},
   "outputs": [],
   "source": [
    "import sklearn\n",
    "from sklearn import preprocessing\n",
    "from sklearn.model_selection import train_test_split\n",
    "from sklearn.cluster import KMeans\n",
    "from sklearn.neighbors import NearestCentroid"
   ]
  },
  {
   "cell_type": "code",
   "execution_count": null,
   "id": "916c3a71",
   "metadata": {},
   "outputs": [],
   "source": [
    "# Assuming input is dataframe \n",
    "class MinimumDistanceClassifier(object):\n",
    "    def __init__(self,input_label,output_label,cluster):\n",
    "        self.io_label = input_label\n",
    "        self.op_label = output_label\n",
    "        self.cluster = cluster\n",
    "        self.size , self.attrCount = self.io_label.shape\n",
    "    def Fit(self):\n",
    "        x1 = 0\n",
    "        x2 = 0\n",
    "        Length = self.size\n",
    "        for column in Y_train:\n",
    "            res_col = column\n",
    "        for i in range(0,Length):\n",
    "            for column in self.io_label:    \n",
    "                if(self.op_label[res_col].iloc[i] == 1):\n",
    "                    x1 = (x1+X_train[column].iloc[i])/2\n",
    "                else:\n",
    "                    x2 = (x2+X_train[column].iloc[i])/2\n",
    "        self.x1 = x1\n",
    "        self.x2 = x2\n",
    "    def Predict(self,X_test):\n",
    "        pred = []\n",
    "        LengthTest = len(X_test)\n",
    "        for i in range(0,LengthTest):\n",
    "            for column in X_test:\n",
    "                if(abs(X_test[column].iloc[i] -self.x1)> abs(X_test[column].iloc[i] -self.x2)):\n",
    "                    pred.append(0)\n",
    "                else:\n",
    "                    pred.append(1)\n",
    "        pred = np.array(pred)\n",
    "        return pred\n",
    "\n",
    "class Kmeans(object):\n",
    "    def __init__(self,input_label,cluster):\n",
    "        self.io_label = input_label\n",
    "        self.cluster = cluster\n",
    "        self.size , self.attrCount = self.io_label.shape\n",
    "    def Fit(self):\n",
    "        x1 = random.uniform(0,1)\n",
    "        x2 = random.uniform(0,1)\n",
    "        Length = self.size\n",
    "        for column in Y_train:\n",
    "            res_col = column\n",
    "        for i in range(0,Length):\n",
    "            for column in self.io_label:    \n",
    "                if(abs(self.io_label[column].iloc[i] - x1)> abs(self.io_label[column].iloc[i] -x2)):\n",
    "                    x1 = (x1+X_train[column].iloc[i])/2\n",
    "                else:\n",
    "                    x2 = (x2+X_train[column].iloc[i])/2\n",
    "        self.x1 = x1\n",
    "        self.x2 = x2\n",
    "\n",
    "        past = [x1,x2]\n",
    "        iteration = 0\n",
    "        while(self.CheckTrue(past) == False or iteration == 0):\n",
    "            past = [self.x1,self.x2]\n",
    "            for i in range(0,Length):\n",
    "                for column in self.io_label:    \n",
    "                    if(abs(self.io_label[column].iloc[i] - x1)> abs(self.io_label[column].iloc[i] -x2)):\n",
    "                        x1 = (x1+X_train[column].iloc[i])/2\n",
    "                    else:\n",
    "                        x2 = (x2+X_train[column].iloc[i])/2\n",
    "            self.x1 = x1\n",
    "            self.x2 = x2\n",
    "\n",
    "\n",
    "        # Now Run the iterations to check if the \n",
    "        # converging condition has been achieved\n",
    "    def CheckTrue(self,past):\n",
    "        if(self.x1 == past[0] and self.x2 == past[1]):\n",
    "            return True\n",
    "        return False\n",
    "\n",
    "    def Predict(self,X_test):\n",
    "        pred = []\n",
    "        LengthTest = len(X_test)\n",
    "        for i in range(0,LengthTest):\n",
    "            for column in X_test:\n",
    "                if(abs(X_test[column].iloc[i] -self.x1)> abs(X_test[column].iloc[i] -self.x2)):\n",
    "                    pred.append(0)\n",
    "                else:\n",
    "                    pred.append(1)\n",
    "        pred = np.array(pred)\n",
    "        return pred\n",
    "        "
   ]
  },
  {
   "cell_type": "code",
   "execution_count": null,
   "id": "e2b819e1",
   "metadata": {},
   "outputs": [],
   "source": []
  },
  {
   "cell_type": "code",
   "execution_count": null,
   "id": "d343e4c6",
   "metadata": {},
   "outputs": [],
   "source": [
    "an_array = np.array([[1, 2], [3, 4]])\n",
    "another_array = np.array([[1, 2], [3, 4]])\n",
    " \n",
    "comparison = an_array == another_array\n",
    "equal_arrays = comparison.all()\n",
    " \n",
    "print(equal_arrays)"
   ]
  },
  {
   "cell_type": "code",
   "execution_count": null,
   "id": "29fd5d0c",
   "metadata": {},
   "outputs": [],
   "source": []
  },
  {
   "cell_type": "code",
   "execution_count": null,
   "id": "3febdb92",
   "metadata": {},
   "outputs": [],
   "source": []
  }
 ],
 "metadata": {
  "kernelspec": {
   "display_name": "Python 3",
   "language": "python",
   "name": "python3"
  },
  "language_info": {
   "codemirror_mode": {
    "name": "ipython",
    "version": 3
   },
   "file_extension": ".py",
   "mimetype": "text/x-python",
   "name": "python",
   "nbconvert_exporter": "python",
   "pygments_lexer": "ipython3",
   "version": "3.6.13"
  }
 },
 "nbformat": 4,
 "nbformat_minor": 5
}
