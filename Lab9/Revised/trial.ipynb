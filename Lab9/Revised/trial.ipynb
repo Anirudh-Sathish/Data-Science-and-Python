# -*- coding: utf-8 -*-
"""
Created on Wed Oct 19 21:44:01 2022

@author: aniru
"""

import pandas as pd 

print("Hello")