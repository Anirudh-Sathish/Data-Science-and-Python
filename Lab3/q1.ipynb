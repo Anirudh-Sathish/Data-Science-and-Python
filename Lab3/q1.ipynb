{
 "cells": [
  {
   "cell_type": "code",
   "execution_count": 12,
   "metadata": {},
   "outputs": [],
   "source": [
    "#To implement a stack \n",
    "\n",
    "#Stack contains -> top \n",
    "#Initialize the value of top = -1 \n",
    "#Create a list to hold the values \n",
    "#Should we set a maximum size , since python has a workaround for this ? \n",
    "\n",
    "class Stack(object):\n",
    "    def __init__(self):\n",
    "        self.top = -1\n",
    "        self.elementList = []\n",
    "    def push(self,item):\n",
    "        self.top += 1\n",
    "        self.elementList.append(item)\n",
    "    def pop(self):\n",
    "        if self.top == -1:\n",
    "            print(\"No elements in the stack \")\n",
    "            return 0 \n",
    "        item = self.elementList.pop()\n",
    "        return item\n",
    "    def peek(self):\n",
    "        if self.top == -1:\n",
    "            print(\"No elements in the stack \")\n",
    "            return 0 \n",
    "        item = self.elementList[self.top]\n",
    "        return item\n",
    "    def print(self):\n",
    "        for item in self.elementList:\n",
    "            print(item)\n"
   ]
  },
  {
   "cell_type": "code",
   "execution_count": 13,
   "metadata": {},
   "outputs": [
    {
     "name": "stdout",
     "output_type": "stream",
     "text": [
      "Welcome to Stack operations \n",
      "What are you here for ?\n",
      "Press Key according to need \n",
      "Press 1 For Inserting your data to stack \n",
      "Press 2 For Popping your data from the stack \n",
      "Press 3 For Printing your data \n",
      "Press 4 For Peeking your data \n",
      "Press 5 For Exiting \n",
      "Welcome to Stack operations \n",
      "What are you here for ?\n",
      "Press Key according to need \n",
      "Press 1 For Inserting your data to stack \n",
      "Press 2 For Popping your data from the stack \n",
      "Press 3 For Printing your data \n",
      "Press 4 For Peeking your data \n",
      "Press 5 For Exiting \n",
      "4\n",
      "Welcome to Stack operations \n",
      "What are you here for ?\n",
      "Press Key according to need \n",
      "Press 1 For Inserting your data to stack \n",
      "Press 2 For Popping your data from the stack \n",
      "Press 3 For Printing your data \n",
      "Press 4 For Peeking your data \n",
      "Press 5 For Exiting \n",
      "Thanks for visiting \n",
      "You are exiting now\n"
     ]
    }
   ],
   "source": [
    "s = Stack()\n",
    "exploration_done = False\n",
    "\n",
    "while exploration_done is False:\n",
    "    # Writing the menu part \n",
    "    print(\"Welcome to Stack operations \")\n",
    "    print(\"What are you here for ?\")\n",
    "    print(\"Press Key according to need \")\n",
    "    print(\"Press 1 For Inserting your data to stack \")\n",
    "    print(\"Press 2 For Popping your data from the stack \")\n",
    "    print(\"Press 3 For Peeking your data \")\n",
    "    print(\"Press 4 For Printing your data \")\n",
    "    print(\"Press 5 For Exiting \")\n",
    "    option_chosen = int(input(\"Enter the option you want to chose\"))\n",
    "    if option_chosen == 1:\n",
    "        #Inserting value into dict\n",
    "        Value_token = int(input(\"Enter data inserted \"))\n",
    "        s.push(Value_token)\n",
    "    elif option_chosen == 2:\n",
    "        item_popped = s.pop()\n",
    "    elif option_chosen == 3:\n",
    "        s.peek()\n",
    "    elif option_chosen == 4:\n",
    "        s.print()\n",
    "    elif option_chosen == 5:\n",
    "        print(\"Thanks for visiting \")\n",
    "        print(\"You are exiting now\")\n",
    "        exploration_done = True\n",
    "    else:\n",
    "        print(\"Maybe you made an input error. We take input values from range 1 to 5\")"
   ]
  },
  {
   "cell_type": "code",
   "execution_count": null,
   "metadata": {},
   "outputs": [],
   "source": []
  }
 ],
 "metadata": {
  "kernelspec": {
   "display_name": "Python 3.8.8 ('base')",
   "language": "python",
   "name": "python3"
  },
  "language_info": {
   "codemirror_mode": {
    "name": "ipython",
    "version": 3
   },
   "file_extension": ".py",
   "mimetype": "text/x-python",
   "name": "python",
   "nbconvert_exporter": "python",
   "pygments_lexer": "ipython3",
   "version": "3.8.8"
  },
  "orig_nbformat": 4,
  "vscode": {
   "interpreter": {
    "hash": "2f3eb0242237f7482054201cdc0254386ced23c6e95d6945cb90bc9b5b8e1362"
   }
  }
 },
 "nbformat": 4,
 "nbformat_minor": 2
}
