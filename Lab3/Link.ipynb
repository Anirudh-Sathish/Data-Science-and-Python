{
 "cells": [
  {
   "cell_type": "code",
   "execution_count": 140,
   "metadata": {},
   "outputs": [],
   "source": [
    "#Code for linkedlist \n",
    "\n",
    "class Node():\n",
    "    def __init__(self , data):\n",
    "        self.data = data\n",
    "        self.NextNode = None\n",
    "\n",
    "class LinkedList():\n",
    "    def __init__(self):\n",
    "        self.HeaderNode = None\n",
    "        self.Size = 0\n",
    "    def append(self,data):\n",
    "        #Adding element to the end of the linkedlist\n",
    "        NewNode = Node(data)\n",
    "        if self.Size == 0:\n",
    "            Temp = NewNode\n",
    "            self.HeaderNode = Temp\n",
    "        else:\n",
    "            # Temp points to the headerNode \n",
    "            Temp = self.HeaderNode\n",
    "            while (Temp.NextNode != None):\n",
    "                Temp = Temp.NextNode\n",
    "            Temp.NextNode = NewNode\n",
    "        self.Size += 1\n",
    "\n",
    "    def prepend(self,data):\n",
    "        #Adding elements to the begining of the linkedlist\n",
    "        NewNode = Node(data)\n",
    "        \n",
    "        if self.Size == 0:\n",
    "            Temp = NewNode\n",
    "            self.HeaderNode = Temp\n",
    "            self.Size =self.Size+1\n",
    "        else:\n",
    "            NewNode.NextNode = self.HeaderNode\n",
    "            self.HeaderNode = NewNode\n",
    "            self.Size =self.Size+1\n",
    "    def pop(self):\n",
    "        Temp = self.HeaderNode\n",
    "        if self.Size == 0 :\n",
    "            print(\"Nothing to delete\")\n",
    "        else:\n",
    "            value = Temp.data\n",
    "            self.HeaderNode = Temp.NextNode\n",
    "            del Temp \n",
    "            self.Size -= 1\n",
    "            return value\n",
    "    def getSize(self):\n",
    "        return self.Size\n",
    "    def seeFirstElement(self):\n",
    "        Temp = self.HeaderNode\n",
    "        if self.Size == 0:\n",
    "            print(\"Empty Stack\")  \n",
    "        else:\n",
    "            return Temp.data\n",
    "\n",
    "    def printList(self):\n",
    "        Temp = self.HeaderNode\n",
    "        if Temp == None :\n",
    "            print(\"Nothing to delete\")\n",
    "        elif Temp.NextNode == None:\n",
    "            print(Temp.data)\n",
    "        else:\n",
    "            while(Temp.NextNode != None):\n",
    "                print(Temp.data)\n",
    "                Temp = Temp.NextNode\n",
    "            print(Temp.data)\n"
   ]
  },
  {
   "cell_type": "code",
   "execution_count": 141,
   "metadata": {},
   "outputs": [],
   "source": [
    "class Stack(object):\n",
    "    def __init__(self):\n",
    "        self.top = -1\n",
    "        self.elementList = LinkedList()\n",
    "    def push(self,item):\n",
    "        self.top += 1\n",
    "        self.elementList.prepend(item)\n",
    "    def pop(self):\n",
    "        if self.top == -1:\n",
    "            print(\"No elements in the stack \")\n",
    "            return 0 \n",
    "        item = self.elementList.pop()\n",
    "        return item\n",
    "    def peek(self):\n",
    "        if self.top == -1:\n",
    "            print(\"No elements in the stack \")\n",
    "            return 0 \n",
    "        item = self.elementList.seeFirstElement()\n",
    "        return item\n",
    "    def print(self):\n",
    "        self.elementList.printList()\n"
   ]
  },
  {
   "cell_type": "code",
   "execution_count": 142,
   "metadata": {},
   "outputs": [],
   "source": [
    "s = Stack()\n",
    "s.push(6)\n",
    "s.push(9)\n",
    "s.push(15)"
   ]
  },
  {
   "cell_type": "code",
   "execution_count": 143,
   "metadata": {},
   "outputs": [
    {
     "name": "stdout",
     "output_type": "stream",
     "text": [
      "15\n",
      "9\n",
      "6\n",
      "15\n"
     ]
    }
   ],
   "source": [
    "s.print()\n",
    "val = s.pop()\n",
    "print(val)\n"
   ]
  },
  {
   "cell_type": "code",
   "execution_count": 144,
   "metadata": {},
   "outputs": [
    {
     "name": "stdout",
     "output_type": "stream",
     "text": [
      "9\n",
      "6\n"
     ]
    }
   ],
   "source": [
    "s.print()"
   ]
  },
  {
   "cell_type": "code",
   "execution_count": 145,
   "metadata": {},
   "outputs": [
    {
     "data": {
      "text/plain": [
       "9"
      ]
     },
     "execution_count": 145,
     "metadata": {},
     "output_type": "execute_result"
    }
   ],
   "source": [
    "s.peek()"
   ]
  },
  {
   "cell_type": "code",
   "execution_count": null,
   "metadata": {},
   "outputs": [],
   "source": []
  }
 ],
 "metadata": {
  "kernelspec": {
   "display_name": "Python 3.8.8 ('base')",
   "language": "python",
   "name": "python3"
  },
  "language_info": {
   "codemirror_mode": {
    "name": "ipython",
    "version": 3
   },
   "file_extension": ".py",
   "mimetype": "text/x-python",
   "name": "python",
   "nbconvert_exporter": "python",
   "pygments_lexer": "ipython3",
   "version": "3.8.8"
  },
  "orig_nbformat": 4,
  "vscode": {
   "interpreter": {
    "hash": "2f3eb0242237f7482054201cdc0254386ced23c6e95d6945cb90bc9b5b8e1362"
   }
  }
 },
 "nbformat": 4,
 "nbformat_minor": 2
}
