{
 "cells": [
  {
   "cell_type": "code",
   "execution_count": 1,
   "metadata": {},
   "outputs": [],
   "source": [
    "# To implement a queue \n",
    "\n",
    "#Queue should consist of front and rear \n",
    "#Operations to be defined on a queue \n",
    "#1.Enqueue \n",
    "#2.Dequeue\n",
    "#3.Peek\n",
    "#4.Print\n",
    "class Queue(object):\n",
    "    def __init__(self):\n",
    "        self.front = -1 \n",
    "        self.rear = -1\n",
    "        self.queueList = [] \n",
    "    def Enqueue(self,item):\n",
    "        if self.front == -1:\n",
    "            self.front = 0\n",
    "        self.rear += self.rear\n",
    "        self.queueList.append(item)\n",
    "    def Dequeue(self):\n",
    "        if self.front == -1:\n",
    "            print(\"There exists no elements in the queue\")\n",
    "            return 0\n",
    "        item = self.queueList.pop()\n",
    "        self.front += self.front\n",
    "        if self.front > self.rear: \n",
    "            self.front = self.rear = -1 \n",
    "        return item\n",
    "    def peek(self):\n",
    "        if self.front == -1:\n",
    "            print(\"There exists no elements in the queue\")\n",
    "            return 0\n",
    "        item = self.queueList[self.front]\n",
    "        return item\n",
    "    def print(self):\n",
    "        for item in self.queueList:\n",
    "            print(item)"
   ]
  },
  {
   "cell_type": "code",
   "execution_count": 4,
   "metadata": {},
   "outputs": [
    {
     "name": "stdout",
     "output_type": "stream",
     "text": [
      "7\n",
      "7\n"
     ]
    }
   ],
   "source": [
    "q = Queue()\n",
    "q.Enqueue(7)\n",
    "q.print()\n",
    "print(q.Dequeue())"
   ]
  },
  {
   "cell_type": "code",
   "execution_count": null,
   "metadata": {},
   "outputs": [],
   "source": []
  }
 ],
 "metadata": {
  "kernelspec": {
   "display_name": "Python 3.8.8 ('base')",
   "language": "python",
   "name": "python3"
  },
  "language_info": {
   "codemirror_mode": {
    "name": "ipython",
    "version": 3
   },
   "file_extension": ".py",
   "mimetype": "text/x-python",
   "name": "python",
   "nbconvert_exporter": "python",
   "pygments_lexer": "ipython3",
   "version": "3.8.8"
  },
  "orig_nbformat": 4,
  "vscode": {
   "interpreter": {
    "hash": "2f3eb0242237f7482054201cdc0254386ced23c6e95d6945cb90bc9b5b8e1362"
   }
  }
 },
 "nbformat": 4,
 "nbformat_minor": 2
}
