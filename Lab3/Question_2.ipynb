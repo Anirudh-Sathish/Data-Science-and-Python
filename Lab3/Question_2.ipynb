{
 "cells": [
  {
   "cell_type": "code",
   "execution_count": 23,
   "metadata": {},
   "outputs": [],
   "source": [
    "#Code for linkedlist \n",
    "\n",
    "class Node():\n",
    "    def __init__(self , data):\n",
    "        self.data = data\n",
    "        self.NextNode = None\n",
    "\n",
    "class LinkedList():\n",
    "    def __init__(self):\n",
    "        self.HeaderNode = None\n",
    "        self.Size = 0\n",
    "    def append(self,data):\n",
    "        #Adding element to the end of the linkedlist\n",
    "        NewNode = Node(data)\n",
    "        if self.Size == 0:\n",
    "            Temp = NewNode\n",
    "            self.HeaderNode = Temp\n",
    "        else:\n",
    "            # Temp points to the headerNode \n",
    "            Temp = self.HeaderNode\n",
    "            while (Temp.NextNode != None):\n",
    "                Temp = Temp.NextNode\n",
    "            Temp.NextNode = NewNode\n",
    "        self.Size += 1\n",
    "\n",
    "    def prepend(self,data):\n",
    "        #Adding elements to the begining of the linkedlist\n",
    "        NewNode = Node(data)\n",
    "        \n",
    "        if self.Size == 0:\n",
    "            Temp = NewNode\n",
    "            self.HeaderNode = Temp\n",
    "            self.Size =self.Size+1\n",
    "        else:\n",
    "            NewNode.NextNode = self.HeaderNode\n",
    "            self.HeaderNode = NewNode\n",
    "            self.Size =self.Size+1\n",
    "    def pop(self):\n",
    "        if(self.HeaderNode == None):\n",
    "            return None\n",
    "        elif(self.HeaderNode != None):\n",
    "       #1. if head in not null and next of head\n",
    "       #   is null, release the head\n",
    "            if(self.HeaderNode.NextNode == None):\n",
    "                self.HeaderNode = None\n",
    "        else:\n",
    "        #2. Else, traverse to the second last \n",
    "        #   element of the list\n",
    "            Temp = self.Header\n",
    "            while(Temp.NextNode.NextNode != None):\n",
    "                Temp = Temp.NextNode\n",
    "            lastNode = Temp.next\n",
    "            Temp.next = None\n",
    "            lastNode = None\n",
    "    def getSize(self):\n",
    "        return self.Size\n",
    "    def seeFirstElement(self):\n",
    "        Temp = self.HeaderNode\n",
    "        if self.Size == 0:\n",
    "            print(\"Empty Stack\")  \n",
    "        else:\n",
    "            return Temp.data  \n",
    "    def printList(self):\n",
    "        Temp = self.HeaderNode\n",
    "        if Temp == None :\n",
    "            print(\"Nothing to delete\")\n",
    "        elif Temp.NextNode == None:\n",
    "            print(Temp.data)\n",
    "        else:\n",
    "            while(Temp.NextNode != None):\n",
    "                print(Temp.data)\n",
    "                Temp = Temp.NextNode\n",
    "            print(Temp.data)\n",
    "\n",
    "# To implement a queue \n",
    "\n",
    "#Queue should consist of front and rear \n",
    "#Operations to be defined on a queue \n",
    "#1.Enqueue \n",
    "#2.Dequeue\n",
    "#3.Peek\n",
    "#4.Print\n",
    "class Queue(object):\n",
    "    def __init__(self):\n",
    "        self.front = -1 \n",
    "        self.rear = -1\n",
    "        self.queueList = [] \n",
    "    def Enqueue(self,item):\n",
    "        if self.front == -1:\n",
    "            self.front = 0\n",
    "        self.rear += self.rear\n",
    "        self.queueList.append(item)\n",
    "    def Dequeue(self):\n",
    "        if self.front == -1:\n",
    "            print(\"There exists no elements in the queue\")\n",
    "            return \"Nothing\"\n",
    "        item = self.queueList.pop()\n",
    "        self.front += self.front\n",
    "        if self.front > self.rear: \n",
    "            self.front = self.rear = -1 \n",
    "        return item\n",
    "    def peek(self):\n",
    "        if self.front == -1:\n",
    "            print(\"There exists no elements in the queue\")\n",
    "            return 0\n",
    "        item = self.queueList.seeFirstElement()\n",
    "        return item\n",
    "    def print(self):\n",
    "        for item in self.queueList:\n",
    "            print(item)\n"
   ]
  },
  {
   "cell_type": "code",
   "execution_count": 24,
   "metadata": {},
   "outputs": [],
   "source": [
    "q = Queue()\n",
    "q.Enqueue(10)\n",
    "q.Enqueue(10)\n",
    "q.Enqueue(10)\n",
    "q.Enqueue(20)"
   ]
  },
  {
   "cell_type": "code",
   "execution_count": 25,
   "metadata": {},
   "outputs": [
    {
     "name": "stdout",
     "output_type": "stream",
     "text": [
      "10\n",
      "10\n",
      "10\n",
      "20\n"
     ]
    }
   ],
   "source": [
    "q.print()"
   ]
  },
  {
   "cell_type": "code",
   "execution_count": 26,
   "metadata": {},
   "outputs": [
    {
     "data": {
      "text/plain": [
       "20"
      ]
     },
     "execution_count": 26,
     "metadata": {},
     "output_type": "execute_result"
    }
   ],
   "source": [
    "q.Dequeue()"
   ]
  },
  {
   "cell_type": "code",
   "execution_count": null,
   "metadata": {},
   "outputs": [],
   "source": []
  }
 ],
 "metadata": {
  "kernelspec": {
   "display_name": "Python 3.8.8 ('base')",
   "language": "python",
   "name": "python3"
  },
  "language_info": {
   "codemirror_mode": {
    "name": "ipython",
    "version": 3
   },
   "file_extension": ".py",
   "mimetype": "text/x-python",
   "name": "python",
   "nbconvert_exporter": "python",
   "pygments_lexer": "ipython3",
   "version": "3.8.8"
  },
  "orig_nbformat": 4,
  "vscode": {
   "interpreter": {
    "hash": "2f3eb0242237f7482054201cdc0254386ced23c6e95d6945cb90bc9b5b8e1362"
   }
  }
 },
 "nbformat": 4,
 "nbformat_minor": 2
}
