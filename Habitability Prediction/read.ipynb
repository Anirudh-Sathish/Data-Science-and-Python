{
 "cells": [
  {
   "cell_type": "code",
   "execution_count": 1,
   "metadata": {},
   "outputs": [],
   "source": [
    "#importing neccesary libs \n",
    "import pandas as pd \n",
    "import numpy as np "
   ]
  },
  {
   "cell_type": "code",
   "execution_count": 6,
   "metadata": {},
   "outputs": [],
   "source": [
    "path =\"C:/Users/aniru/DataScince/Habitability Prediction/dataset/test.csv\"\n",
    "df =pd.read_csv(path)"
   ]
  },
  {
   "cell_type": "code",
   "execution_count": 8,
   "metadata": {},
   "outputs": [
    {
     "name": "stdout",
     "output_type": "stream",
     "text": [
      "<class 'pandas.core.frame.DataFrame'>\n",
      "RangeIndex: 10500 entries, 0 to 10499\n",
      "Data columns (total 14 columns):\n",
      " #   Column                  Non-Null Count  Dtype  \n",
      "---  ------                  --------------  -----  \n",
      " 0   Property_ID             10500 non-null  object \n",
      " 1   Property_Type           10500 non-null  object \n",
      " 2   Property_Area           10500 non-null  int64  \n",
      " 3   Number_of_Windows       10055 non-null  float64\n",
      " 4   Number_of_Doors         10500 non-null  int64  \n",
      " 5   Furnishing              10243 non-null  object \n",
      " 6   Frequency_of_Powercuts  10134 non-null  float64\n",
      " 7   Power_Backup            10500 non-null  object \n",
      " 8   Water_Supply            10500 non-null  object \n",
      " 9   Traffic_Density_Score   10500 non-null  float64\n",
      " 10  Crime_Rate              10288 non-null  object \n",
      " 11  Dust_and_Noise          10170 non-null  object \n",
      " 12  Air_Quality_Index       10500 non-null  float64\n",
      " 13  Neighborhood_Review     10500 non-null  float64\n",
      "dtypes: float64(5), int64(2), object(7)\n",
      "memory usage: 1.1+ MB\n",
      "None\n"
     ]
    }
   ],
   "source": [
    "print(df.info())\n",
    "#Insights from this \n",
    "# Number of windows data is insufficient -> Missing features ->Take care of this \n",
    "# Furnishing information is insufficent \n",
    "# Crime rate is insufficient \n",
    "#Frequency of powercuts is insufficient \n",
    "#Dust and noise is insufficinet \n",
    "#THere are lot of object based columns \n",
    "#Object based columns : Propert_Id, Property_type , Furnishing,Power_Backup , Water_Supply\n",
    "#Crimerate , Dust_and_noise"
   ]
  },
  {
   "cell_type": "code",
   "execution_count": 9,
   "metadata": {},
   "outputs": [
    {
     "data": {
      "text/plain": [
       "Apartment             3853\n",
       "Single-family home    3102\n",
       "Duplex                1520\n",
       "Bungalow              1105\n",
       "Container Home         781\n",
       "#R%$G&867              139\n",
       "Name: Property_Type, dtype: int64"
      ]
     },
     "execution_count": 9,
     "metadata": {},
     "output_type": "execute_result"
    }
   ],
   "source": [
    "#Value of the property_type\n",
    "df[\"Property_Type\"].value_counts()"
   ]
  },
  {
   "cell_type": "code",
   "execution_count": 10,
   "metadata": {},
   "outputs": [
    {
     "data": {
      "text/plain": [
       "Semi_Furnished     5418\n",
       "Unfurnished        2659\n",
       "Fully Furnished    2166\n",
       "Name: Furnishing, dtype: int64"
      ]
     },
     "execution_count": 10,
     "metadata": {},
     "output_type": "execute_result"
    }
   ],
   "source": [
    "#Value of the furninshing \n",
    "df[\"Furnishing\"].value_counts()"
   ]
  },
  {
   "cell_type": "code",
   "execution_count": 12,
   "metadata": {},
   "outputs": [
    {
     "data": {
      "text/plain": [
       "No               7974\n",
       "Yes              2305\n",
       "NOT MENTIONED     221\n",
       "Name: Power_Backup, dtype: int64"
      ]
     },
     "execution_count": 12,
     "metadata": {},
     "output_type": "execute_result"
    }
   ],
   "source": [
    "#Value of Power Backup\n",
    "df[\"Power_Backup\"].value_counts()"
   ]
  },
  {
   "cell_type": "code",
   "execution_count": 13,
   "metadata": {},
   "outputs": [
    {
     "data": {
      "text/plain": [
       "All time                   5187\n",
       "Once in a day - Morning    2597\n",
       "Once in a day - Evening    2118\n",
       "Once in two days            494\n",
       "NOT MENTIONED               104\n",
       "Name: Water_Supply, dtype: int64"
      ]
     },
     "execution_count": 13,
     "metadata": {},
     "output_type": "execute_result"
    }
   ],
   "source": [
    "#Value of water Supply \n",
    "df[\"Water_Supply\"].value_counts()"
   ]
  },
  {
   "cell_type": "code",
   "execution_count": 14,
   "metadata": {},
   "outputs": [
    {
     "data": {
      "text/plain": [
       "Well below average        5189\n",
       "Slightly below average    3032\n",
       "Slightly above average    1421\n",
       "Well above average         646\n",
       "Name: Crime_Rate, dtype: int64"
      ]
     },
     "execution_count": 14,
     "metadata": {},
     "output_type": "execute_result"
    }
   ],
   "source": [
    "#Value of crime_rate\n",
    "df[\"Crime_Rate\"].value_counts()"
   ]
  },
  {
   "cell_type": "code",
   "execution_count": 16,
   "metadata": {},
   "outputs": [
    {
     "data": {
      "text/plain": [
       "Medium    8826\n",
       "High       802\n",
       "Low        542\n",
       "Name: Dust_and_Noise, dtype: int64"
      ]
     },
     "execution_count": 16,
     "metadata": {},
     "output_type": "execute_result"
    }
   ],
   "source": [
    "#Value of dust and noise \n",
    "df[\"Dust_and_Noise\"].value_counts()"
   ]
  },
  {
   "cell_type": "code",
   "execution_count": 18,
   "metadata": {},
   "outputs": [
    {
     "data": {
      "text/html": [
       "<div>\n",
       "<style scoped>\n",
       "    .dataframe tbody tr th:only-of-type {\n",
       "        vertical-align: middle;\n",
       "    }\n",
       "\n",
       "    .dataframe tbody tr th {\n",
       "        vertical-align: top;\n",
       "    }\n",
       "\n",
       "    .dataframe thead th {\n",
       "        text-align: right;\n",
       "    }\n",
       "</style>\n",
       "<table border=\"1\" class=\"dataframe\">\n",
       "  <thead>\n",
       "    <tr style=\"text-align: right;\">\n",
       "      <th></th>\n",
       "      <th>Property_Area</th>\n",
       "      <th>Number_of_Windows</th>\n",
       "      <th>Number_of_Doors</th>\n",
       "      <th>Frequency_of_Powercuts</th>\n",
       "      <th>Traffic_Density_Score</th>\n",
       "      <th>Air_Quality_Index</th>\n",
       "      <th>Neighborhood_Review</th>\n",
       "    </tr>\n",
       "  </thead>\n",
       "  <tbody>\n",
       "    <tr>\n",
       "      <th>count</th>\n",
       "      <td>10500.000000</td>\n",
       "      <td>10055.000000</td>\n",
       "      <td>10500.000000</td>\n",
       "      <td>10134.000000</td>\n",
       "      <td>10500.000000</td>\n",
       "      <td>10500.000000</td>\n",
       "      <td>10500.000000</td>\n",
       "    </tr>\n",
       "    <tr>\n",
       "      <th>mean</th>\n",
       "      <td>1364.333333</td>\n",
       "      <td>3.897563</td>\n",
       "      <td>2.326571</td>\n",
       "      <td>0.484409</td>\n",
       "      <td>6.361525</td>\n",
       "      <td>120.532571</td>\n",
       "      <td>3.734125</td>\n",
       "    </tr>\n",
       "    <tr>\n",
       "      <th>std</th>\n",
       "      <td>1813.702032</td>\n",
       "      <td>2.690162</td>\n",
       "      <td>1.175324</td>\n",
       "      <td>0.749686</td>\n",
       "      <td>1.216237</td>\n",
       "      <td>55.635990</td>\n",
       "      <td>0.793325</td>\n",
       "    </tr>\n",
       "    <tr>\n",
       "      <th>min</th>\n",
       "      <td>100.000000</td>\n",
       "      <td>0.000000</td>\n",
       "      <td>1.000000</td>\n",
       "      <td>0.000000</td>\n",
       "      <td>0.020000</td>\n",
       "      <td>0.000000</td>\n",
       "      <td>0.020000</td>\n",
       "    </tr>\n",
       "    <tr>\n",
       "      <th>25%</th>\n",
       "      <td>505.000000</td>\n",
       "      <td>2.000000</td>\n",
       "      <td>1.000000</td>\n",
       "      <td>0.000000</td>\n",
       "      <td>5.620000</td>\n",
       "      <td>95.000000</td>\n",
       "      <td>3.230000</td>\n",
       "    </tr>\n",
       "    <tr>\n",
       "      <th>50%</th>\n",
       "      <td>935.500000</td>\n",
       "      <td>3.000000</td>\n",
       "      <td>2.000000</td>\n",
       "      <td>0.000000</td>\n",
       "      <td>6.470000</td>\n",
       "      <td>113.000000</td>\n",
       "      <td>3.850000</td>\n",
       "    </tr>\n",
       "    <tr>\n",
       "      <th>75%</th>\n",
       "      <td>1758.000000</td>\n",
       "      <td>5.000000</td>\n",
       "      <td>3.000000</td>\n",
       "      <td>1.000000</td>\n",
       "      <td>7.220000</td>\n",
       "      <td>140.000000</td>\n",
       "      <td>4.220000</td>\n",
       "    </tr>\n",
       "    <tr>\n",
       "      <th>max</th>\n",
       "      <td>27477.000000</td>\n",
       "      <td>15.000000</td>\n",
       "      <td>6.000000</td>\n",
       "      <td>3.000000</td>\n",
       "      <td>9.430000</td>\n",
       "      <td>1031.000000</td>\n",
       "      <td>5.000000</td>\n",
       "    </tr>\n",
       "  </tbody>\n",
       "</table>\n",
       "</div>"
      ],
      "text/plain": [
       "       Property_Area  Number_of_Windows  Number_of_Doors  \\\n",
       "count   10500.000000       10055.000000     10500.000000   \n",
       "mean     1364.333333           3.897563         2.326571   \n",
       "std      1813.702032           2.690162         1.175324   \n",
       "min       100.000000           0.000000         1.000000   \n",
       "25%       505.000000           2.000000         1.000000   \n",
       "50%       935.500000           3.000000         2.000000   \n",
       "75%      1758.000000           5.000000         3.000000   \n",
       "max     27477.000000          15.000000         6.000000   \n",
       "\n",
       "       Frequency_of_Powercuts  Traffic_Density_Score  Air_Quality_Index  \\\n",
       "count            10134.000000           10500.000000       10500.000000   \n",
       "mean                 0.484409               6.361525         120.532571   \n",
       "std                  0.749686               1.216237          55.635990   \n",
       "min                  0.000000               0.020000           0.000000   \n",
       "25%                  0.000000               5.620000          95.000000   \n",
       "50%                  0.000000               6.470000         113.000000   \n",
       "75%                  1.000000               7.220000         140.000000   \n",
       "max                  3.000000               9.430000        1031.000000   \n",
       "\n",
       "       Neighborhood_Review  \n",
       "count         10500.000000  \n",
       "mean              3.734125  \n",
       "std               0.793325  \n",
       "min               0.020000  \n",
       "25%               3.230000  \n",
       "50%               3.850000  \n",
       "75%               4.220000  \n",
       "max               5.000000  "
      ]
     },
     "execution_count": 18,
     "metadata": {},
     "output_type": "execute_result"
    }
   ],
   "source": [
    "#for the numerical \n",
    "df.describe()"
   ]
  },
  {
   "cell_type": "code",
   "execution_count": 19,
   "metadata": {},
   "outputs": [],
   "source": [
    "%matplotlib inline\n",
    "import matplotlib.pyplot as plt"
   ]
  },
  {
   "cell_type": "code",
   "execution_count": 20,
   "metadata": {},
   "outputs": [
    {
     "data": {
      "image/png": "[encoded data removed]",
      "text/plain": [
       "<Figure size 1440x1080 with 9 Axes>"
      ]
     },
     "metadata": {
      "needs_background": "light"
     },
     "output_type": "display_data"
    }
   ],
   "source": [
    "df.hist(bins = 50,figsize=(20,15))\n",
    "plt.show()"
   ]
  },
  {
   "cell_type": "code",
   "execution_count": null,
   "metadata": {},
   "outputs": [],
   "source": []
  }
 ],
 "metadata": {
  "kernelspec": {
   "display_name": "Python 3.8.8 ('base')",
   "language": "python",
   "name": "python3"
  },
  "language_info": {
   "codemirror_mode": {
    "name": "ipython",
    "version": 3
   },
   "file_extension": ".py",
   "mimetype": "text/x-python",
   "name": "python",
   "nbconvert_exporter": "python",
   "pygments_lexer": "ipython3",
   "version": "3.8.8"
  },
  "orig_nbformat": 4,
  "vscode": {
   "interpreter": {
    "hash": "2f3eb0242237f7482054201cdc0254386ced23c6e95d6945cb90bc9b5b8e1362"
   }
  }
 },
 "nbformat": 4,
 "nbformat_minor": 2
}
