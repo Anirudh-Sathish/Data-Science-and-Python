{
 "cells": [
  {
   "cell_type": "code",
   "execution_count": 229,
   "metadata": {},
   "outputs": [
    {
     "data": {
      "text/plain": [
       "'\\nWrite a Python program (with pandas) to do the following on the\\n data file “landslide_data2_miss.csv”.\\na) Plot a graph of the attribute names (x-axis)\\n with the number of missing values in them (y-axis).(separate python file)\\nb) Target attribute is “stationid”, \\nDrop the tuples (rows) having missing values in the target attribute.\\nPrint the total number of tuples deleted.\\n Delete (drop) the tuples (rows) having equal to\\nor more than one third of attributes with missing values.\\n Print the total number of tuples deleted.\\nc) After (b), count and print the number of missing values\\n in each attributes. \\nAlso find and print the total number of missing values in the file\\n (after the deletion of tuples)\\n\\n2. Experiments on filling in missing values: \\na) Replace the missing values by mean of their respective attribute.\\n    Compute the mean, median, mode and standard deviation for \\n    each attributes and compare the same with that of the original file.\\n    Calculate the root mean square error (RMSE) between the\\n    original and replaced values for each attribute.\\n    Compute RMSE given by the equation at the end of the question.\\n    Plot these RMSE with respect to the attributes. \\nb) Replace the missing values in each attribute using the\\n   linear interpolation technique. Use df.interpolate() with\\n   suitable arguments.\\n   Compute the mean, median, mode and standard deviation \\n   for each attributes and compare with that of the original file.\\n   Calculate the root mean square error (RMSE) between the original and replaced values for each attributes. (Get original values from the original file provided). Compute RMSE given by the equation at the end of the question. Plot this RMSE with respect to the attributes.\\nc) Outlier detection:\\n\\ti) After replacing the missing values by interpolation method,\\n\\tfind and list the outliers in the attributes “temperature” and “rain”.\\n\\tOutliers are the values that do not satisfy the condition \\n\\t(Q1 – (1.5 * IQR)) < x < (Q3 + (1.5 * IQR)),\\n \\twhere x is the value of the attribute, IQR is the interquartile range,\\n\\tQ1 and Q3 are the first and third quartiles.\\n \\tObtain the boxplot for these attributes.\\n\\nii) Replace these outliers with the median of the attribute.\\n \\tPlot the boxplot again and observe the difference with that\\n \\tof the boxplot from the previous box in \\n \\t(i). Do you still get outliers? Why?\\n'"
      ]
     },
     "execution_count": 229,
     "metadata": {},
     "output_type": "execute_result"
    }
   ],
   "source": [
    "\"\"\"\n",
    "@ Author : Anirudh Sathish \n",
    "@ Roll_No : CS20B1125 \n",
    "\n",
    "\"\"\"\n",
    "\n",
    "\"\"\"\n",
    "Write a Python program (with pandas) to do the following on the\n",
    " data file “landslide_data2_miss.csv”.\n",
    "a) Plot a graph of the attribute names (x-axis)\n",
    " with the number of missing values in them (y-axis).(separate python file)\n",
    "b) Target attribute is “stationid”, \n",
    "Drop the tuples (rows) having missing values in the target attribute.\n",
    "Print the total number of tuples deleted.\n",
    " Delete (drop) the tuples (rows) having equal to\n",
    "or more than one third of attributes with missing values.\n",
    " Print the total number of tuples deleted.\n",
    "c) After (b), count and print the number of missing values\n",
    " in each attributes. \n",
    "Also find and print the total number of missing values in the file\n",
    " (after the deletion of tuples)\n",
    "\n",
    "2. Experiments on filling in missing values: \n",
    "a) Replace the missing values by mean of their respective attribute.\n",
    "    Compute the mean, median, mode and standard deviation for \n",
    "    each attributes and compare the same with that of the original file.\n",
    "    Calculate the root mean square error (RMSE) between the\n",
    "    original and replaced values for each attribute.\n",
    "    Compute RMSE given by the equation at the end of the question.\n",
    "    Plot these RMSE with respect to the attributes. \n",
    "b) Replace the missing values in each attribute using the\n",
    "   linear interpolation technique. Use df.interpolate() with\n",
    "   suitable arguments.\n",
    "   Compute the mean, median, mode and standard deviation \n",
    "   for each attributes and compare with that of the original file.\n",
    "   Calculate the root mean square error (RMSE) between the original and replaced values for each attributes. (Get original values from the original file provided). Compute RMSE given by the equation at the end of the question. Plot this RMSE with respect to the attributes.\n",
    "c) Outlier detection:\n",
    "\ti) After replacing the missing values by interpolation method,\n",
    "\tfind and list the outliers in the attributes “temperature” and “rain”.\n",
    "\tOutliers are the values that do not satisfy the condition \n",
    "\t(Q1 – (1.5 * IQR)) < x < (Q3 + (1.5 * IQR)),\n",
    " \twhere x is the value of the attribute, IQR is the interquartile range,\n",
    "\tQ1 and Q3 are the first and third quartiles.\n",
    " \tObtain the boxplot for these attributes.\n",
    "\n",
    "ii) Replace these outliers with the median of the attribute.\n",
    " \tPlot the boxplot again and observe the difference with that\n",
    " \tof the boxplot from the previous box in \n",
    " \t(i). Do you still get outliers? Why?\n",
    "\"\"\"\n"
   ]
  },
  {
   "cell_type": "code",
   "execution_count": 230,
   "metadata": {},
   "outputs": [],
   "source": [
    "# Defining the neccesary header files \n",
    "import pandas as pd \n",
    "import numpy as np \n",
    "import matplotlib.pyplot as plt\n",
    "import math\n",
    "# For temperature\n",
    "from statistics import median\n"
   ]
  },
  {
   "cell_type": "code",
   "execution_count": 231,
   "metadata": {},
   "outputs": [
    {
     "name": "stdout",
     "output_type": "stream",
     "text": [
      "<class 'pandas.core.frame.DataFrame'>\n",
      "RangeIndex: 945 entries, 0 to 944\n",
      "Data columns (total 9 columns):\n",
      " #   Column        Non-Null Count  Dtype  \n",
      "---  ------        --------------  -----  \n",
      " 0   dates         945 non-null    object \n",
      " 1   stationid     926 non-null    object \n",
      " 2   temperature   879 non-null    float64\n",
      " 3   humidity      900 non-null    float64\n",
      " 4   pressure      868 non-null    float64\n",
      " 5   rain          907 non-null    float64\n",
      " 6   lightavgw/o0  898 non-null    float64\n",
      " 7   lightmax      914 non-null    float64\n",
      " 8   moisture      914 non-null    float64\n",
      "dtypes: float64(7), object(2)\n",
      "memory usage: 66.6+ KB\n",
      "None\n"
     ]
    }
   ],
   "source": [
    "# Opening the neccesary file \n",
    "missing_landslide_data = pd.read_csv(\"landslide_data3_miss.csv\")\n",
    "print(missing_landslide_data.info())\n"
   ]
  },
  {
   "cell_type": "code",
   "execution_count": 232,
   "metadata": {},
   "outputs": [
    {
     "data": {
      "image/png": "[encoded data removed]",
      "text/plain": [
       "<Figure size 720x360 with 1 Axes>"
      ]
     },
     "metadata": {
      "needs_background": "light"
     },
     "output_type": "display_data"
    }
   ],
   "source": [
    "# (a) Plotting the missing values vs Attributes\n",
    "missing_val = missing_landslide_data.isnull()\n",
    "missingWithColumn = missing_val.sum()\n",
    "fig = plt.figure(figsize = (10, 5))\n",
    "\n",
    "values = missingWithColumn.to_list()\n",
    "\n",
    "missingWithColumn = missingWithColumn.to_frame() \n",
    "# creating the bar plot\n",
    "plt.bar(missingWithColumn.index ,values, color ='blue',\n",
    "        width = 0.4)\n",
    " \n",
    "plt.xlabel(\"Attributes\")\n",
    "plt.ylabel(\"Missing Value Count\")\n",
    "plt.title(\"Missing Values corresponding to attributes\")\n",
    "plt.show()\n"
   ]
  },
  {
   "cell_type": "code",
   "execution_count": 233,
   "metadata": {},
   "outputs": [
    {
     "name": "stdout",
     "output_type": "stream",
     "text": [
      "<class 'pandas.core.frame.DataFrame'>\n",
      "Int64Index: 926 entries, 0 to 944\n",
      "Data columns (total 9 columns):\n",
      " #   Column        Non-Null Count  Dtype  \n",
      "---  ------        --------------  -----  \n",
      " 0   dates         926 non-null    object \n",
      " 1   stationid     926 non-null    object \n",
      " 2   temperature   864 non-null    float64\n",
      " 3   humidity      885 non-null    float64\n",
      " 4   pressure      853 non-null    float64\n",
      " 5   rain          893 non-null    float64\n",
      " 6   lightavgw/o0  883 non-null    float64\n",
      " 7   lightmax      899 non-null    float64\n",
      " 8   moisture      896 non-null    float64\n",
      "dtypes: float64(7), object(2)\n",
      "memory usage: 72.3+ KB\n",
      "None\n"
     ]
    }
   ],
   "source": [
    "clean_targetAttribute  = missing_landslide_data[missing_landslide_data[\"stationid\"].notnull()]\n",
    "print(clean_targetAttribute.info())"
   ]
  },
  {
   "cell_type": "code",
   "execution_count": 234,
   "metadata": {},
   "outputs": [
    {
     "name": "stdout",
     "output_type": "stream",
     "text": [
      "\n",
      "\n",
      "---------------------------------------------------------\n",
      "Rows Deleted after removing NAN values from : 19\n",
      "---------------------------------------------------------\n",
      "\n",
      "\n"
     ]
    }
   ],
   "source": [
    "# Initial number of tuples \n",
    "tuple_inital = missing_landslide_data.shape[0]\n",
    "\n",
    "# Tuple after drop \n",
    "tuple_afterDrop = clean_targetAttribute.shape[0]\n",
    "\n",
    "tuple_difference = tuple_inital - tuple_afterDrop\n",
    "print(\"\\n\")\n",
    "print(\"---------------------------------------------------------\")\n",
    "print(\"Rows Deleted after removing NAN values from :\" , tuple_difference)\n",
    "print(\"---------------------------------------------------------\")\n",
    "print(\"\\n\")\n"
   ]
  },
  {
   "cell_type": "code",
   "execution_count": 235,
   "metadata": {},
   "outputs": [
    {
     "name": "stdout",
     "output_type": "stream",
     "text": [
      "<class 'pandas.core.frame.DataFrame'>\n",
      "Int64Index: 891 entries, 0 to 944\n",
      "Data columns (total 9 columns):\n",
      " #   Column        Non-Null Count  Dtype  \n",
      "---  ------        --------------  -----  \n",
      " 0   dates         891 non-null    object \n",
      " 1   stationid     891 non-null    object \n",
      " 2   temperature   857 non-null    float64\n",
      " 3   humidity      878 non-null    float64\n",
      " 4   pressure      850 non-null    float64\n",
      " 5   rain          885 non-null    float64\n",
      " 6   lightavgw/o0  876 non-null    float64\n",
      " 7   lightmax      890 non-null    float64\n",
      " 8   moisture      885 non-null    float64\n",
      "dtypes: float64(7), object(2)\n",
      "memory usage: 69.6+ KB\n",
      "None\n"
     ]
    }
   ],
   "source": [
    "\"\"\" \n",
    "Removing values where the no of null values in a tuple is equal to\n",
    "or more than third of the attributes\n",
    "\"\"\"\n",
    "update_clean_targetAttribute = clean_targetAttribute.dropna(thresh = 7 , axis = 0 )\n",
    "print(update_clean_targetAttribute.info())"
   ]
  },
  {
   "cell_type": "code",
   "execution_count": 236,
   "metadata": {},
   "outputs": [
    {
     "name": "stdout",
     "output_type": "stream",
     "text": [
      "\n",
      "\n",
      "---------------------------------------------------------\n",
      "Difference after Removing Tuples with too many NAN values :  35\n",
      "Total TUples Deteleted :  54\n",
      "---------------------------------------------------------\n",
      "\n",
      "\n"
     ]
    }
   ],
   "source": [
    "Final_update_tuple = update_clean_targetAttribute.shape[0]\n",
    "new_diff = tuple_afterDrop - Final_update_tuple\n",
    "print(\"\\n\")\n",
    "print(\"---------------------------------------------------------\")\n",
    "print(\"Difference after Removing Tuples with too many NAN values : \",new_diff)\n",
    "print(\"Total Tuples Deteleted : \",new_diff+tuple_difference)\n",
    "print(\"---------------------------------------------------------\")\n",
    "print(\"\\n\")"
   ]
  },
  {
   "cell_type": "code",
   "execution_count": 237,
   "metadata": {},
   "outputs": [
    {
     "name": "stdout",
     "output_type": "stream",
     "text": [
      "\n",
      "\n",
      "---------------------------------------------------------\n",
      "TO FIND THE REMAINING MISSING VALUES AFTER ALL THE CLEANING \n",
      "Column wise Missing Values :\n",
      " dates            0\n",
      "stationid        0\n",
      "temperature     34\n",
      "humidity        13\n",
      "pressure        41\n",
      "rain             6\n",
      "lightavgw/o0    15\n",
      "lightmax         1\n",
      "moisture         6\n",
      "dtype: int64\n",
      "Final Missing Values :  116\n"
     ]
    }
   ],
   "source": [
    "# Answer to the C Part \n",
    "\"\"\" \n",
    "    TO FIND THE REMAINING MISSING VALUES AFTER ALL THE CLEANING \n",
    " \"\"\"\n",
    "print(\"\\n\")\n",
    "print(\"---------------------------------------------------------\")\n",
    "print(\"TO FIND THE REMAINING MISSING VALUES AFTER ALL THE CLEANING \")\n",
    "Final_missing_val = update_clean_targetAttribute.isnull()\n",
    "FinalMissingColumnWise = Final_missing_val.sum()\n",
    "print(\"Column wise Missing Values :\\n\" ,FinalMissingColumnWise)\n",
    "FinalMissing = FinalMissingColumnWise.sum()\n",
    "print(\"Final Missing Values : \" , FinalMissing)\n",
    "\n"
   ]
  },
  {
   "cell_type": "code",
   "execution_count": 238,
   "metadata": {},
   "outputs": [
    {
     "name": "stdout",
     "output_type": "stream",
     "text": [
      "<class 'pandas.core.frame.DataFrame'>\n",
      "RangeIndex: 945 entries, 0 to 944\n",
      "Data columns (total 9 columns):\n",
      " #   Column        Non-Null Count  Dtype  \n",
      "---  ------        --------------  -----  \n",
      " 0   dates         945 non-null    object \n",
      " 1   stationid     926 non-null    object \n",
      " 2   temperature   879 non-null    float64\n",
      " 3   humidity      900 non-null    float64\n",
      " 4   pressure      868 non-null    float64\n",
      " 5   rain          907 non-null    float64\n",
      " 6   lightavgw/o0  898 non-null    float64\n",
      " 7   lightmax      914 non-null    float64\n",
      " 8   moisture      914 non-null    float64\n",
      "dtypes: float64(7), object(2)\n",
      "memory usage: 66.6+ KB\n"
     ]
    }
   ],
   "source": [
    "\"\"\" 2. Experiments on filling in missing values: \n",
    "    a) Replace the missing values by mean of their respective attribute.\n",
    "     (Use df.fillna() with suitable arguments.)\"\"\"\n",
    "missing_landslide_data.info()\n",
    "# Sinces dates and stationid are not of numerical type , let us ignore\n",
    "# these values for now \n"
   ]
  },
  {
   "cell_type": "code",
   "execution_count": 239,
   "metadata": {},
   "outputs": [
    {
     "name": "stdout",
     "output_type": "stream",
     "text": [
      "        temperature   humidity     pressure          rain  lightavgw/o0  \\\n",
      "mean      21.078545  83.261665  1009.225238  10942.726307   4430.927906   \n",
      "std        4.243347  17.967910    45.214874  24574.252587   7400.586085   \n",
      "Median    21.800000  90.119050  1014.070741     24.750000   1911.233800   \n",
      "Mode      21.078545  99.000000  1009.225238      0.000000   4488.910300   \n",
      "\n",
      "            lightmax   moisture  \n",
      "mean    21650.163020  32.671968  \n",
      "std     21678.196144  33.415806  \n",
      "Median   7544.000000  17.723400  \n",
      "Mode     4000.000000   0.000000  \n"
     ]
    }
   ],
   "source": [
    "# Reading the file\n",
    "missing_landslide_data = pd.read_csv(\"landslide_data3_miss.csv\")\n",
    "\n",
    "# Dropping all non numerical kind of data \n",
    "missing_landslide_data_numero = missing_landslide_data.drop(['dates','stationid'],axis =1)\n",
    "\n",
    "# Filling the missing values in this data with thier means \n",
    "df_FilledWithMean = missing_landslide_data_numero.fillna(missing_landslide_data_numero.mean())\n",
    "\n",
    "#Obtaining the statistics \n",
    "df_descrip_Mean_Fill = df_FilledWithMean.describe()\n",
    "\n",
    "# Obtaining the neccesary statistics by dropping unnecessary values \n",
    "df_descrip_Mean_Fill = df_descrip_Mean_Fill.drop(['count','min','25%','50%','75%','max'],axis = 0)\n",
    "\n",
    "# Obtaining the median \n",
    "df_descrip_median_fill = df_FilledWithMean.median()\n",
    "\n",
    "# Converting into df\n",
    "df_descrip_median_fill = df_descrip_median_fill.to_frame()\n",
    "\n",
    "#Transposing it for better represenation \n",
    "df_descrip_median_fill = df_descrip_median_fill.transpose()\n",
    "\n",
    "# Renaming \n",
    "df_descrip_median_fill = df_descrip_median_fill.rename(index={0:'Median'})\n",
    "\n",
    "#Obtaining the mode \n",
    "df_descrip_mode_fill = df_FilledWithMean.mode()\n",
    "df_descrip_mode_fill = df_descrip_mode_fill.rename(index={0:'Mode'})\n",
    "\n",
    "# Concatenating all , to represent mean , median , mode and std together \n",
    "df_fromIncomplete_v1 = pd.concat([df_descrip_Mean_Fill,df_descrip_median_fill,df_descrip_mode_fill])\n",
    "print(df_fromIncomplete_v1)\n"
   ]
  },
  {
   "cell_type": "code",
   "execution_count": 240,
   "metadata": {},
   "outputs": [
    {
     "name": "stdout",
     "output_type": "stream",
     "text": [
      "        temperature   humidity     pressure          rain  lightavgw/o0  \\\n",
      "mean      21.214888  83.479932  1009.008774  10701.538370   4438.428453   \n",
      "std        4.355818  18.210065    46.980477  24852.255288   7573.162806   \n",
      "Median    22.272730  91.380950  1014.677832     18.000000   1656.880000   \n",
      "Mode      12.727270  99.000000   789.392692      0.000000   4488.910300   \n",
      "\n",
      "            lightmax   moisture  \n",
      "mean    21788.623280  32.386053  \n",
      "std     22064.993089  33.653245  \n",
      "Median   6634.000000  16.704200  \n",
      "Mode     4000.000000   0.000000  \n"
     ]
    }
   ],
   "source": [
    "\"\"\" For the originial file  , with no missing values \"\"\"\n",
    "# Reading the file \n",
    "df_original = pd.read_csv(\"landslide_data3_original.csv\")\n",
    "\n",
    "# Dropping non numerical data \n",
    "df_original_data_numero = df_original.drop(['dates','stationid'],axis =1)\n",
    "\n",
    "# Finding mean and std \n",
    "df_Originaldescrip_Mean_Fill = df_original_data_numero.describe()\n",
    "df_Originaldescrip_Mean_Fill = df_Originaldescrip_Mean_Fill.drop(['count','min','25%','50%','75%','max'],axis = 0)\n",
    "\n",
    "# Finding median \n",
    "df_Originaldescrip_median_fill = df_original_data_numero.median()\n",
    "df_Originaldescrip_median_fill = df_Originaldescrip_median_fill.to_frame()\n",
    "df_Originaldescrip_median_fill = df_Originaldescrip_median_fill.transpose()\n",
    "df_Originaldescrip_median_fill = df_Originaldescrip_median_fill.rename(index={0:'Median'})\n",
    "\n",
    "#Finding mode \n",
    "df_Originaldescrip_mode_fill = df_original_data_numero.mode()\n",
    "df_Originaldescrip_mode_fill = df_Originaldescrip_mode_fill.rename(index={0:'Mode'})\n",
    "\n",
    "# Concatenating All to represent them together \n",
    "df_fromComplete_v1 = pd.concat([df_Originaldescrip_Mean_Fill ,df_Originaldescrip_median_fill,df_Originaldescrip_mode_fill])\n",
    "print(df_fromComplete_v1)\n"
   ]
  },
  {
   "cell_type": "code",
   "execution_count": 241,
   "metadata": {},
   "outputs": [
    {
     "name": "stdout",
     "output_type": "stream",
     "text": [
      "\n",
      "\n",
      "--------------------------------------------------------\n",
      " \n",
      "    TO LOOK AT DIFFERENCE BETWEEN MEAN , MEDIAN , MODE AND STD OF THE\n",
      "    MEAN REPLACED VALUE WITH THE ORIGINAL FILE VALUES \n",
      "\n",
      "Difference between values : \n",
      "        temperature  humidity    pressure        rain  lightavgw/o0  \\\n",
      "mean       0.136343  0.218267   -0.216464 -241.187936      7.500547   \n",
      "std        0.112471  0.242155    1.765603  278.002701    172.576721   \n",
      "Median     0.472730  1.261900    0.607091   -6.750000   -254.353800   \n",
      "Mode      -8.351275  0.000000 -219.832545    0.000000      0.000000   \n",
      "\n",
      "          lightmax  moisture  \n",
      "mean    138.460261 -0.285916  \n",
      "std     386.796945  0.237438  \n",
      "Median -910.000000 -1.019200  \n",
      "Mode      0.000000  0.000000  \n",
      "--------------------------------------------------------\n",
      "\n",
      "\n"
     ]
    }
   ],
   "source": [
    "\"\"\" \n",
    "    TO LOOK AT DIFFERENCE BETWEEN MEAN , MEDIAN , MODE AND STD OF THE\n",
    "    MEAN REPLACED VALUE WITH THE ORIGINAL FILE VALUES \n",
    "\"\"\"\n",
    "print(\"\\n\")\n",
    "print(\"--------------------------------------------------------\")\n",
    "print(\"\"\" \n",
    "    TO LOOK AT DIFFERENCE BETWEEN MEAN , MEDIAN , MODE AND STD OF THE\n",
    "    MEAN REPLACED VALUE WITH THE ORIGINAL FILE VALUES \n",
    "\"\"\")\n",
    "df_new_v1_diff = df_fromComplete_v1 - df_fromIncomplete_v1\n",
    "print(\"Difference between values : \")\n",
    "print(df_new_v1_diff)\n",
    "print(\"--------------------------------------------------------\")\n",
    "print(\"\\n\")"
   ]
  },
  {
   "cell_type": "code",
   "execution_count": 242,
   "metadata": {},
   "outputs": [],
   "source": [
    "\"\"\" Function to find RMSE \n",
    "    I : Mean , Dataframe , InstanceCount\n",
    "    O : Dataframe Containg RMSE Value of Attributes\n",
    "\"\"\"\n",
    "def FindRMSE(df_original, df_replaced ,N ):\n",
    "    sum = 0 \n",
    "    for i in range(N):\n",
    "        x_i = df_original.loc[i]\n",
    "        x_hat_i = df_replaced.loc[i]\n",
    "        val = x_i - x_hat_i\n",
    "        squared_term = val*val\n",
    "        sum =sum + squared_term\n",
    "\n",
    "    sum = sum.to_frame()\n",
    "    sum = sum.transpose()\n",
    "    columns_list = list(sum.columns)\n",
    "\n",
    "    RMSE_list = []\n",
    "    for column in sum.columns:\n",
    "        Req_Name = \"RMSE_\"+column\n",
    "        RMSE_list.append(math.sqrt(sum[column]/N))\n",
    "    \n",
    "    RMSE = pd.DataFrame(RMSE_list)\n",
    "    RMSE = RMSE.transpose()\n",
    "    RMSE.columns = columns_list\n",
    "    RMSE = RMSE.transpose()\n",
    "    RMSE.columns = ['RMSE']\n",
    "\n",
    "    return RMSE\n",
    "    \n",
    "    \n"
   ]
  },
  {
   "cell_type": "code",
   "execution_count": 243,
   "metadata": {},
   "outputs": [
    {
     "name": "stdout",
     "output_type": "stream",
     "text": [
      "945\n",
      "                     RMSE\n",
      "temperature      0.992332\n",
      "humidity         2.966316\n",
      "pressure        12.753626\n",
      "rain          3712.725939\n",
      "lightavgw/o0  1606.686725\n",
      "lightmax      4113.514159\n",
      "moisture         3.998708\n"
     ]
    }
   ],
   "source": [
    "# Do the RMSE Cacluations \n",
    "\n",
    "# To find the total instance count \n",
    "N = df_original_data_numero.shape[0]\n",
    "print(N)\n",
    "\n",
    "RMSE_V1 = FindRMSE(df_original_data_numero,df_FilledWithMean,N)\n",
    "print(RMSE_V1)"
   ]
  },
  {
   "cell_type": "code",
   "execution_count": 244,
   "metadata": {},
   "outputs": [
    {
     "data": {
      "image/png": "[encoded data removed]",
      "text/plain": [
       "<Figure size 720x360 with 1 Axes>"
      ]
     },
     "metadata": {
      "needs_background": "light"
     },
     "output_type": "display_data"
    }
   ],
   "source": [
    "# Plotting a bar graph \n",
    "fig = plt.figure(figsize = (10, 5))\n",
    "\n",
    "RMSE_V1_calc = RMSE_V1.squeeze()\n",
    "\n",
    "values_RMSE_V1 = RMSE_V1_calc.to_list()\n",
    "\n",
    "plt.bar(RMSE_V1.index ,values_RMSE_V1, color ='blue',\n",
    "        width = 0.4)\n",
    " \n",
    "plt.xlabel(\"Attributes\")\n",
    "plt.ylabel(\"RMSE\")\n",
    "plt.title(\"RMSE Values of Attributes\")\n",
    "plt.show()\n",
    "\n"
   ]
  },
  {
   "cell_type": "code",
   "execution_count": 245,
   "metadata": {},
   "outputs": [
    {
     "name": "stdout",
     "output_type": "stream",
     "text": [
      "        temperature   humidity     pressure          rain  lightavgw/o0  \\\n",
      "mean      21.196222  83.538245  1009.264758  10651.638370   4486.340772   \n",
      "std        4.329504  18.206727    45.998792  24779.512082   7573.795424   \n",
      "Median    22.169210  91.380950  1014.677832     22.500000   1623.494100   \n",
      "Mode      12.727270  99.000000   789.392692      0.000000   4488.910300   \n",
      "\n",
      "            lightmax   moisture  \n",
      "mean    21517.191005  32.327431  \n",
      "std     21935.165741  33.602566  \n",
      "Median   6569.000000  16.306600  \n",
      "Mode     4000.000000   0.000000  \n"
     ]
    }
   ],
   "source": [
    "# Doing the neccesary using interpolate\n",
    "\n",
    "# Performing linear interploation \n",
    "df_Interpolated_missing_landslide_data = missing_landslide_data_numero.interpolate(method=\"linear\")\n",
    "\n",
    "# Finding the mean and std \n",
    "df_describe_std_mean = df_Interpolated_missing_landslide_data.describe()\n",
    "df_describe_std_mean = df_describe_std_mean.drop(['count','min','25%','50%','75%','max'],axis = 0)\n",
    "df_median = df_Interpolated_missing_landslide_data.median()\n",
    "df_median = df_median.to_frame()\n",
    "df_median = df_median.transpose()\n",
    "df_median = df_median.rename(index={0:'Median'})\n",
    "df_mode = df_Interpolated_missing_landslide_data.mode()\n",
    "df_mode = df_mode.rename(index={0:'Mode'})\n",
    "df_fromInterpolate_v2 = pd.concat([df_describe_std_mean,df_median,df_mode])\n",
    "print(df_fromInterpolate_v2)"
   ]
  },
  {
   "cell_type": "code",
   "execution_count": 246,
   "metadata": {},
   "outputs": [
    {
     "name": "stdout",
     "output_type": "stream",
     "text": [
      "\n",
      "\n",
      "--------------------------------------------------------------\n",
      "Difference between the values after Linear interpolation : \n",
      "\n",
      "        temperature  humidity  pressure       rain  lightavgw/o0    lightmax  \\\n",
      "mean       0.018666 -0.058314 -0.255984  49.900000    -47.912319  271.432275   \n",
      "std        0.026314  0.003338  0.981686  72.743206     -0.632617  129.827347   \n",
      "Median     0.103520  0.000000  0.000000  -4.500000     33.385900   65.000000   \n",
      "Mode       0.000000  0.000000  0.000000   0.000000      0.000000    0.000000   \n",
      "\n",
      "        moisture  \n",
      "mean    0.058621  \n",
      "std     0.050679  \n",
      "Median  0.397600  \n",
      "Mode    0.000000  \n",
      "--------------------------------------------------------------\n",
      "\n",
      "\n"
     ]
    }
   ],
   "source": [
    "\"\"\"\n",
    "    Difference between the values after Linear interpolation\n",
    "\"\"\"\n",
    "df_fromComplete_v2 = df_fromComplete_v1\n",
    "df_new_v2_diff = df_fromComplete_v2 - df_fromInterpolate_v2\n",
    "print(\"\\n\")\n",
    "print(\"--------------------------------------------------------------\")\n",
    "print(\"Difference between the values after Linear interpolation : \\n\")\n",
    "print(df_new_v2_diff)\n",
    "print(\"--------------------------------------------------------------\")\n",
    "print(\"\\n\")"
   ]
  },
  {
   "cell_type": "code",
   "execution_count": 247,
   "metadata": {},
   "outputs": [
    {
     "name": "stdout",
     "output_type": "stream",
     "text": [
      "                     RMSE\n",
      "temperature      0.490393\n",
      "humidity         0.839313\n",
      "pressure         7.033472\n",
      "rain          1206.147686\n",
      "lightavgw/o0  1241.591449\n",
      "lightmax      3830.829336\n",
      "moisture         1.273464\n"
     ]
    }
   ],
   "source": [
    "# Finding the RMSE\n",
    "\n",
    "RMSE_V2 = FindRMSE(df_original_data_numero,df_Interpolated_missing_landslide_data,N)\n",
    "print(RMSE_V2)\n"
   ]
  },
  {
   "cell_type": "code",
   "execution_count": 248,
   "metadata": {},
   "outputs": [
    {
     "data": {
      "image/png": "[encoded data removed]",
      "text/plain": [
       "<Figure size 720x360 with 1 Axes>"
      ]
     },
     "metadata": {
      "needs_background": "light"
     },
     "output_type": "display_data"
    }
   ],
   "source": [
    "# Bar graph plot\n",
    "fig = plt.figure(figsize = (10, 5))\n",
    "\n",
    "RMSE_V2_cal = RMSE_V2.squeeze()\n",
    "\n",
    "values_RMSE_V1 = RMSE_V2_cal.to_list()\n",
    "\n",
    "plt.bar(RMSE_V2.index ,values_RMSE_V1, color ='blue',\n",
    "        width = 0.4)\n",
    " \n",
    "plt.xlabel(\"Attributes\")\n",
    "plt.ylabel(\"RMSE\")\n",
    "plt.title(\"RMSE Values of Attributes\")\n",
    "plt.show()"
   ]
  },
  {
   "cell_type": "code",
   "execution_count": 249,
   "metadata": {},
   "outputs": [
    {
     "data": {
      "text/plain": [
       "<AxesSubplot:>"
      ]
     },
     "execution_count": 249,
     "metadata": {},
     "output_type": "execute_result"
    },
    {
     "data": {
      "image/png": "[encoded data removed]",
      "text/plain": [
       "<Figure size 720x432 with 1 Axes>"
      ]
     },
     "metadata": {
      "needs_background": "light"
     },
     "output_type": "display_data"
    }
   ],
   "source": [
    "\"\"\" \n",
    "    Plotting the box plot to identify outliers\n",
    "\"\"\"\n",
    "plt.figure(figsize=(10,6))\n",
    "# Temperature boxplot\n",
    "df_Interpolated_missing_landslide_data.boxplot(\"temperature\")"
   ]
  },
  {
   "cell_type": "code",
   "execution_count": 250,
   "metadata": {},
   "outputs": [
    {
     "data": {
      "text/plain": [
       "<AxesSubplot:>"
      ]
     },
     "execution_count": 250,
     "metadata": {},
     "output_type": "execute_result"
    },
    {
     "data": {
      "image/png": "[encoded data removed]",
      "text/plain": [
       "<Figure size 720x432 with 1 Axes>"
      ]
     },
     "metadata": {
      "needs_background": "light"
     },
     "output_type": "display_data"
    }
   ],
   "source": [
    "plt.figure(figsize=(10,6))\n",
    "# Rain box plot\n",
    "df_Interpolated_missing_landslide_data.boxplot(\"rain\")"
   ]
  },
  {
   "cell_type": "code",
   "execution_count": 257,
   "metadata": {},
   "outputs": [],
   "source": [
    "\"\"\"\n",
    "    To find IQR \n",
    "    Returns : LowerBound , UpperBound\n",
    "    \"\"\"\n",
    "def iqrCalculation(df):\n",
    "    Quantile1 = df.quantile(0.25)\n",
    "    Quantile3 = df.quantile(0.75)\n",
    "\n",
    "    # Finding the iqr \n",
    "    InterQuantileRange = Quantile3-Quantile1\n",
    "    median_value = df.median()\n",
    "\n",
    "    # Defining the upper and lower bounds\n",
    "    upper_bound = Quantile3+(1.5*InterQuantileRange)\n",
    "    lower_bound = Quantile1-(1.5*InterQuantileRange)\n",
    "\n",
    "    return upper_bound,lower_bound,median_value"
   ]
  },
  {
   "cell_type": "code",
   "execution_count": 258,
   "metadata": {},
   "outputs": [
    {
     "name": "stdout",
     "output_type": "stream",
     "text": [
      "Outliers in Temperature  :\n",
      "Index Temperature \n",
      "Series([], Name: temperature, dtype: float64)\n"
     ]
    }
   ],
   "source": [
    "# Finding the upper and lower bounds pf the outliers for temperature\n",
    "upper_bound ,lower_bound,median_temperature = iqrCalculation(df_Interpolated_missing_landslide_data[\"temperature\"])\n",
    "# Finding the outliers in temperature \n",
    "outliers_temperature = df_Interpolated_missing_landslide_data[\"temperature\"][(df_Interpolated_missing_landslide_data[\"temperature\"] <= lower_bound) | (df_Interpolated_missing_landslide_data[\"temperature\"] >= upper_bound)]\n",
    "print('Outliers in Temperature  :\\nIndex Temperature \\n{}'.format(outliers_temperature))\n",
    "outliers_temperature_list = outliers_temperature.to_list()"
   ]
  },
  {
   "cell_type": "code",
   "execution_count": 259,
   "metadata": {},
   "outputs": [
    {
     "name": "stdout",
     "output_type": "stream",
     "text": [
      "Outliers in Rain  :\n",
      "Index    Rain \n",
      "1      1761.75\n",
      "2       652.50\n",
      "3       963.00\n",
      "4       254.25\n",
      "5       339.75\n",
      "        ...   \n",
      "881     661.50\n",
      "882    1946.25\n",
      "921    1095.75\n",
      "922    2340.00\n",
      "932    2427.75\n",
      "Name: rain, Length: 195, dtype: float64\n"
     ]
    }
   ],
   "source": [
    "# For Rain\n",
    "# Finding the upper and lower bounds pf the outliers for temperature\n",
    "upper_bound ,lower_bound ,median_rain = iqrCalculation(df_Interpolated_missing_landslide_data[\"rain\"])\n",
    "\n",
    "outliers_rain = df_Interpolated_missing_landslide_data[\"rain\"][(df_Interpolated_missing_landslide_data[\"rain\"] <= lower_bound) | (df_Interpolated_missing_landslide_data[\"rain\"] >= upper_bound)]\n",
    "print('Outliers in Rain  :\\nIndex    Rain \\n{}'.format(outliers_rain))\n",
    "outliers_rain_list = outliers_rain.to_list()"
   ]
  },
  {
   "cell_type": "code",
   "execution_count": 263,
   "metadata": {},
   "outputs": [
    {
     "name": "stdout",
     "output_type": "stream",
     "text": [
      "22.16921 22.5\n"
     ]
    },
    {
     "data": {
      "image/png": "[encoded data removed]",
      "text/plain": [
       "<Figure size 720x432 with 1 Axes>"
      ]
     },
     "metadata": {
      "needs_background": "light"
     },
     "output_type": "display_data"
    }
   ],
   "source": [
    "# Replacing outliers in temperature with median\n",
    "df_Interpolated_missing_landslide_data[\"temperature\"].replace(outliers_temperature_list,median_temperature,inplace= True)\n",
    "\n",
    "#Replacing outliers in rain with median\n",
    "df_Interpolated_missing_landslide_data[\"rain\"].replace(outliers_rain_list,median_rain,inplace= True)\n",
    "\n",
    "# Now drawing the boxplot for temperature\n",
    "plt.figure(figsize=(10,6))\n",
    "df_Interpolated_missing_landslide_data.boxplot(\"temperature\")\n",
    "\n",
    "print(median_temperature,median_rain)"
   ]
  },
  {
   "cell_type": "code",
   "execution_count": 262,
   "metadata": {},
   "outputs": [
    {
     "data": {
      "text/plain": [
       "<AxesSubplot:>"
      ]
     },
     "execution_count": 262,
     "metadata": {},
     "output_type": "execute_result"
    },
    {
     "data": {
      "image/png": "[encoded data removed]",
      "text/plain": [
       "<Figure size 432x288 with 1 Axes>"
      ]
     },
     "metadata": {
      "needs_background": "light"
     },
     "output_type": "display_data"
    }
   ],
   "source": [
    "# Now drawing the boxplot for rain\n",
    "plt.figure(figsize=(10,6))\n",
    "df_Interpolated_missing_landslide_data.boxplot(\"rain\") \n"
   ]
  },
  {
   "cell_type": "code",
   "execution_count": 256,
   "metadata": {},
   "outputs": [
    {
     "data": {
      "text/plain": [
       "' There is a change in the number of outliers , i.e ,\\n initially the outliers in rain Ranged upto 8000 , but currently\\n they have come down to ranges like 2500\\n But they havent truly dissapeared , this is because median\\n is not a true measure of data\\n '"
      ]
     },
     "execution_count": 256,
     "metadata": {},
     "output_type": "execute_result"
    }
   ],
   "source": [
    "\"\"\" There is a change in the number of outliers , i.e ,\n",
    " initially the outliers in rain Ranged upto 8000 , but currently\n",
    " they have come down to ranges like 2500\n",
    " But they havent truly dissapeared , this is because median\n",
    " is not a true measure of data\n",
    " \"\"\""
   ]
  },
  {
   "cell_type": "code",
   "execution_count": null,
   "metadata": {},
   "outputs": [],
   "source": []
  },
  {
   "cell_type": "code",
   "execution_count": null,
   "metadata": {},
   "outputs": [],
   "source": []
  }
 ],
 "metadata": {
  "kernelspec": {
   "display_name": "Python 3.9.2 64-bit",
   "language": "python",
   "name": "python3"
  },
  "language_info": {
   "codemirror_mode": {
    "name": "ipython",
    "version": 3
   },
   "file_extension": ".py",
   "mimetype": "text/x-python",
   "name": "python",
   "nbconvert_exporter": "python",
   "pygments_lexer": "ipython3",
   "version": "3.9.2"
  },
  "orig_nbformat": 4,
  "vscode": {
   "interpreter": {
    "hash": "8c93b56f12893a73f3fb26b619faf35eb67f0f4410719b74190040acf104b72e"
   }
  }
 },
 "nbformat": 4,
 "nbformat_minor": 2
}
