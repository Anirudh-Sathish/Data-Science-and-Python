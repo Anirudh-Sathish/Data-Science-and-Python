{
 "cells": [
  {
   "cell_type": "code",
   "execution_count": 1,
   "metadata": {},
   "outputs": [],
   "source": [
    "# Importing the neccesary libraries \n",
    "import numpy as np "
   ]
  },
  {
   "cell_type": "code",
   "execution_count": 2,
   "metadata": {},
   "outputs": [],
   "source": [
    "class Matrix_here(object):\n",
    "    def __init__(self,column, row):\n",
    "        self.columnSize = column\n",
    "        self.rowSize = row\n",
    "    def insertValues(self):\n",
    "        print(\"Enter inputs for the matrices \")\n",
    "        tuple_c = (self.columnSize,self.rowSize)\n",
    "        list_c = []\n",
    "        i = 0\n",
    "        while i != self.rowSize:\n",
    "            j = 0\n",
    "            while j != self.columnSize:\n",
    "                try:\n",
    "                    inp = int(input(\"Enter \"))\n",
    "                except:\n",
    "                    print(\"Error 3 : Error in input\")\n",
    "                list_c.append(inp)\n",
    "                j+= 1\n",
    "            i+= 1\n",
    "        a = np.array(list_c)\n",
    "        self.array_One = np.reshape(a,tuple_c)\n",
    "        print(self.array_One)\n",
    "        return self.array_One\n",
    "    def addition(self,b):\n",
    "        try:\n",
    "            c = self.array_One+b\n",
    "            return c\n",
    "        except:\n",
    "            print(\"Error 1 : Couldnt add matrices , maybe their dimensions dont match\")\n",
    "    \n",
    "    def subtaction(self,b):\n",
    "        try:\n",
    "            c = self.array_One-b\n",
    "            return c\n",
    "        except:\n",
    "            print(\"Error 1 : Couldnt subtract matrices , maybe their dimensions dont match\")\n",
    "    \n",
    "    def scalarMultiplication(self,scalar):\n",
    "        try:\n",
    "            c = self.array_One*scalar\n",
    "            return c\n",
    "        except: \n",
    "            print(\"Error 2: Maybe the value u sent is not the required type \")\n",
    "    def elementWiseMatrixMultiplication(self,b):\n",
    "        try:\n",
    "            c = self.array_One*b\n",
    "            return c\n",
    "        except: \n",
    "            print(\"Error 1: Maybe Dimension Mismatch\")\n",
    "    def MatrixMultiplication(self,b):\n",
    "        try:\n",
    "            c = self.array_One.dot(b)\n",
    "            return c\n",
    "        except: \n",
    "            print(\"Error 1: Maybe Dimension Mismatch\")\n",
    "    def Transpose(self):\n",
    "        try:\n",
    "            c = self.array_One.transpose()\n",
    "            return c\n",
    "        except: \n",
    "            print(\"Error 4 \")\n",
    "    def FindTrace(self):\n",
    "        try:\n",
    "            c = self.array_One.trace()\n",
    "            return c\n",
    "        except: \n",
    "            print(\"Error 4 \")\n",
    "    def SolveLinearEquation(self , input , output):\n",
    "        try:\n",
    "            solution = np.linalg.solve(input,output)\n",
    "            return solution\n",
    "        except: \n",
    "            print(\"Error 6: Either the dimensions are incorrect , or the matrix is singular \")\n",
    "    def FindDeterminant(self):\n",
    "        try:\n",
    "            solution = np.linalg.det(self.array_One)\n",
    "            return solution\n",
    "        except: \n",
    "            print(\"Error 4 \")\n",
    "    def FindInverse(self):\n",
    "        try:\n",
    "            solution = np.linalg.inv(self.array_One)\n",
    "            return solution\n",
    "        except: \n",
    "            print(\"Error 4 \")\n",
    "    def FindSVD(self):\n",
    "        try:\n",
    "            solution = np.linalg.svd(self.array_One)\n",
    "            return solution\n",
    "        except: \n",
    "            print(\"Error 4 \")\n",
    "    def FindEigenValue(self):\n",
    "        try:\n",
    "            solution = np.linalg.eigvals(self.array_One)\n",
    "            return solution\n",
    "        except: \n",
    "            print(\"Error 8 : The eigen value computation foes not converge  \")\n",
    "    def SearchForElement(self,searchElement):\n",
    "        try:\n",
    "            c = np.where(self.array_One == searchElement)\n",
    "            return c\n",
    "        except:\n",
    "            print(\"Error 4\")\n",
    "    def getDiffImSum(self):\n",
    "        try:\n",
    "            upper = np.triu(self.array_One)\n",
    "            sum_Upper = np.sum(upper)\n",
    "            lower = np.triu(self.array_One)\n",
    "            sum_lower = np.sum(lower)\n",
    "            diff = sum_Upper - sum_lower\n",
    "            return diff\n",
    "        except:\n",
    "            print(\"Error 4\")\n",
    "\n",
    "\n",
    "\n",
    "    "
   ]
  },
  {
   "cell_type": "code",
   "execution_count": 3,
   "metadata": {},
   "outputs": [
    {
     "name": "stdout",
     "output_type": "stream",
     "text": [
      "Enter inputs for the matrices \n",
      "[[ 1  1 11]\n",
      " [11  1  1]\n",
      " [11 12  3]]\n",
      "Enter inputs for the matrices \n",
      "[[ 4  1  2]\n",
      " [ 3  4  2]\n",
      " [12  3  4]]\n"
     ]
    }
   ],
   "source": [
    "Matrix1 = Matrix_here(3,3)\n",
    "Matrix2 = Matrix_here(3,3)\n",
    "A = Matrix1.insertValues()\n",
    "B = Matrix2.insertValues()"
   ]
  },
  {
   "cell_type": "code",
   "execution_count": 120,
   "metadata": {},
   "outputs": [
    {
     "name": "stdout",
     "output_type": "stream",
     "text": [
      "[[ 24  14  15]\n",
      " [243   5 227]\n",
      " [ 67   8  69]]\n"
     ]
    }
   ],
   "source": [
    "val =  Matrix1.addition(B)\n",
    "print(val)"
   ]
  },
  {
   "cell_type": "code",
   "execution_count": 121,
   "metadata": {},
   "outputs": [
    {
     "name": "stdout",
     "output_type": "stream",
     "text": [
      "[[ -22    8    7]\n",
      " [-221   -1  219]\n",
      " [   1   -2  -65]]\n"
     ]
    }
   ],
   "source": [
    "val = Matrix1.subtaction(B)\n",
    "print(val)"
   ]
  },
  {
   "cell_type": "code",
   "execution_count": 122,
   "metadata": {},
   "outputs": [
    {
     "name": "stdout",
     "output_type": "stream",
     "text": [
      "[[   5   55   55]\n",
      " [  55   10 1115]\n",
      " [ 170   15   10]]\n"
     ]
    }
   ],
   "source": [
    "val = Matrix1.scalarMultiplication(5)\n",
    "print(val)"
   ]
  },
  {
   "cell_type": "code",
   "execution_count": 123,
   "metadata": {},
   "outputs": [
    {
     "name": "stdout",
     "output_type": "stream",
     "text": [
      "[[  23   33   44]\n",
      " [2552    6  892]\n",
      " [1122   15  134]]\n"
     ]
    }
   ],
   "source": [
    "val = Matrix1.elementWiseMatrixMultiplication(B)\n",
    "print(val)"
   ]
  },
  {
   "cell_type": "code",
   "execution_count": 124,
   "metadata": {},
   "outputs": [
    {
     "name": "stdout",
     "output_type": "stream",
     "text": [
      "[[ 2938    91   785]\n",
      " [ 8076  1154 14993]\n",
      " [ 1544   121   282]]\n"
     ]
    }
   ],
   "source": [
    "val = Matrix1.MatrixMultiplication(B)\n",
    "print(val)"
   ]
  },
  {
   "cell_type": "code",
   "execution_count": 125,
   "metadata": {},
   "outputs": [
    {
     "name": "stdout",
     "output_type": "stream",
     "text": [
      "[[  1  11  34]\n",
      " [ 11   2   3]\n",
      " [ 11 223   2]]\n"
     ]
    }
   ],
   "source": [
    "val = Matrix1.Transpose()\n",
    "print(val)"
   ]
  },
  {
   "cell_type": "code",
   "execution_count": 126,
   "metadata": {},
   "outputs": [
    {
     "name": "stdout",
     "output_type": "stream",
     "text": [
      "5\n"
     ]
    }
   ],
   "source": [
    "val = Matrix1.FindTrace()\n",
    "print(val)"
   ]
  },
  {
   "cell_type": "code",
   "execution_count": 127,
   "metadata": {},
   "outputs": [
    {
     "data": {
      "text/plain": [
       "array([[ 0.82182438,  0.12413835,  1.95178419],\n",
       "       [ 1.02557545,  0.25641213,  0.2669346 ],\n",
       "       [ 0.99062234,  0.00502984, -0.08073316]])"
      ]
     },
     "execution_count": 127,
     "metadata": {},
     "output_type": "execute_result"
    }
   ],
   "source": [
    "val = Matrix1.c\n",
    "np.linalg.solve(A,B)"
   ]
  },
  {
   "cell_type": "code",
   "execution_count": 128,
   "metadata": {},
   "outputs": [
    {
     "name": "stdout",
     "output_type": "stream",
     "text": [
      "(array([], dtype=int64), array([], dtype=int64))\n"
     ]
    }
   ],
   "source": [
    "val = np.where(A == 1000 )\n",
    "print(val)"
   ]
  },
  {
   "cell_type": "code",
   "execution_count": 129,
   "metadata": {},
   "outputs": [
    {
     "name": "stdout",
     "output_type": "stream",
     "text": [
      "[[  1  11  11]\n",
      " [  0   2 223]\n",
      " [  0   0   2]]\n",
      "[[ 1  0  0]\n",
      " [11  2  0]\n",
      " [34  3  2]]\n",
      "197\n"
     ]
    }
   ],
   "source": [
    "d = np.triu(A)\n",
    "print(d)\n",
    "val = np.sum(d)\n",
    "l = np.tril(A)\n",
    "val2 = np.sum(l)\n",
    "print(l)\n",
    "print(val-val2)"
   ]
  },
  {
   "cell_type": "code",
   "execution_count": 30,
   "metadata": {},
   "outputs": [
    {
     "name": "stdout",
     "output_type": "stream",
     "text": [
      "(array([0, 0, 1, 1], dtype=int64), array([0, 1, 1, 2], dtype=int64))\n"
     ]
    }
   ],
   "source": [
    "c = np.where(A == 1)\n",
    "print(c)"
   ]
  },
  {
   "cell_type": "code",
   "execution_count": 33,
   "metadata": {},
   "outputs": [
    {
     "name": "stdout",
     "output_type": "stream",
     "text": [
      "Corresponding Column no : 0 0 1 1\n",
      "Corresponding Row no    : 0 1 1 2\n"
     ]
    }
   ],
   "source": [
    "column_no = np.array2string(c[0])\n",
    "row_no = np.array2string(c[1])\n",
    "\n",
    "t_w = column_no.split(\"[\")\n",
    "t_w = t_w[1].split(\"]\")\n",
    "column_no = t_w[0]\n",
    "print(\"Corresponding Column no :\",column_no)\n",
    "t_w = row_no.split(\"[\")\n",
    "t_w = t_w[1].split(\"]\")\n",
    "row_no = t_w[0]\n",
    "if(len(row_no)<1):\n",
    "    print(\"Element not present \")\n",
    "print(\"Corresponding Row no    :\",row_no)"
   ]
  },
  {
   "cell_type": "code",
   "execution_count": null,
   "metadata": {},
   "outputs": [],
   "source": []
  }
 ],
 "metadata": {
  "kernelspec": {
   "display_name": "Python 3.8.8 ('base')",
   "language": "python",
   "name": "python3"
  },
  "language_info": {
   "codemirror_mode": {
    "name": "ipython",
    "version": 3
   },
   "file_extension": ".py",
   "mimetype": "text/x-python",
   "name": "python",
   "nbconvert_exporter": "python",
   "pygments_lexer": "ipython3",
   "version": "3.8.8"
  },
  "orig_nbformat": 4,
  "vscode": {
   "interpreter": {
    "hash": "2f3eb0242237f7482054201cdc0254386ced23c6e95d6945cb90bc9b5b8e1362"
   }
  }
 },
 "nbformat": 4,
 "nbformat_minor": 2
}
