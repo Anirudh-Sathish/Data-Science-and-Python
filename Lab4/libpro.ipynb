{
 "cells": [
  {
   "cell_type": "code",
   "execution_count": 20,
   "metadata": {},
   "outputs": [],
   "source": [
    "# Library Processing using python \n",
    "#Anirudh Sathish \n",
    "\n",
    "# Also think , if the file is not being overwritten how is the file being affected\n",
    "\n",
    "#Defining header file \n",
    "import pickle"
   ]
  },
  {
   "cell_type": "code",
   "execution_count": 21,
   "metadata": {},
   "outputs": [],
   "source": [
    "# Defining The library object\n",
    "class Library(object):\n",
    "    def __init__(self):\n",
    "        self.bookCount = 0\n",
    "        self.fileSelected =\"\"\n",
    "    def Write(self,fileName,recordCount):\n",
    "        self.fileSelected = fileName\n",
    "        #Opening the required file\n",
    "        if(self.bookCount == 0):\n",
    "            file_procured = open(self.fileSelected,\"wb\")\n",
    "        else:\n",
    "            file_procured = open(self.fileSelected,\"ab\")\n",
    "        \n",
    "        #Information to be stored for each book is \n",
    "        for i in range(recordCount):\n",
    "            bookInfoList = []\n",
    "            #book ISSN, book title, price, edition, year, and author name\n",
    "            ISSN = int(input(\"Enter the ISSN number of the book \\n\"))\n",
    "            bookInfoList.append(ISSN)\n",
    "            bookTitle = input(\"Enter the book title \\n\")\n",
    "            bookInfoList.append(bookTitle)\n",
    "            bookPrice = float(input(\"Enter the proce of the book in rupees \\n\"))\n",
    "            bookInfoList.append(bookPrice)\n",
    "            bookEdition = int(input(\"Enter the book edition \\n\"))\n",
    "            bookInfoList.append(bookEdition)\n",
    "            bookYear = int(input(\"Enter the year of the book \\n\"))\n",
    "            bookInfoList.append(bookYear)\n",
    "            bookAuthorName = input(\"Enter the author name \\n\")\n",
    "            bookInfoList.append(bookAuthorName)\n",
    "\n",
    "            print(bookInfoList)\n",
    "            self.bookCount +=1\n",
    "            #dumping the information in the required dat file\n",
    "            pickle.dump(bookInfoList,file_procured)\n",
    "        \n",
    "        #Closing the file\n",
    "        file_procured.close()\n",
    "\n",
    "    def Read(self,fileName):\n",
    "        self.fileSelected = fileName\n",
    "        #Opening the required file\n",
    "        file_procured = open(self.fileSelected,\"rb\")\n",
    "\n",
    "        recordCount = self.bookCount\n",
    "        #Information to be stored for each book is \n",
    "        for i in range(recordCount):\n",
    "            bookInfoList = []\n",
    "            try:\n",
    "                bookInfoList = pickle.load(file_procured)\n",
    "                print(bookInfoList)\n",
    "            except EOFError:\n",
    "                print(\"The file has reached its end \")\n",
    "        \n",
    "        # Closing the file \n",
    "        file_procured.close()\n",
    "    def Search(self , fileName , bookTitle ):\n",
    "        self.fileSelected = fileName\n",
    "        #Opening the required file\n",
    "        file_procured = open(self.fileSelected,\"rb\")\n",
    "\n",
    "        recordCount = self.bookCount\n",
    "        #Information to be stored for each book is \n",
    "        for i in range(recordCount):\n",
    "            bookInfoList = []\n",
    "            try:\n",
    "                bookInfoList = pickle.load(file_procured)\n",
    "                if (bookInfoList[1] == bookTitle):\n",
    "                    print(\"The required item has been found\")\n",
    "                    break\n",
    "                        \n",
    "            except EOFError:\n",
    "                print(\"The file has reached its end , without obtaining the books \")\n",
    "        print(bookInfoList)\n",
    "        # Closing the file \n",
    "        file_procured.close()\n",
    "\n",
    "\n",
    "        "
   ]
  },
  {
   "cell_type": "code",
   "execution_count": 22,
   "metadata": {},
   "outputs": [
    {
     "name": "stdout",
     "output_type": "stream",
     "text": [
      "[1, 'junglw', 1000.0, 1, 1998, 'rudyard']\n",
      "[2, 'rudresh', 780.0, 3, 2008, 'dwilan']\n",
      "[3, 'amzon', 678.0, 8, 2004, 'nilesh']\n",
      "[4, 'shillong', 700.0, 4, 2008, 'ignis']\n"
     ]
    }
   ],
   "source": [
    "#Working with the Library \n",
    "Library_IIITDM = Library()\n",
    "Library_IIITDM.Write(\"books.dat\",4)"
   ]
  },
  {
   "cell_type": "code",
   "execution_count": 23,
   "metadata": {},
   "outputs": [
    {
     "name": "stdout",
     "output_type": "stream",
     "text": [
      "[1, 'junglw', 1000.0, 1, 1998, 'rudyard']\n",
      "[2, 'rudresh', 780.0, 3, 2008, 'dwilan']\n",
      "[3, 'amzon', 678.0, 8, 2004, 'nilesh']\n",
      "[4, 'shillong', 700.0, 4, 2008, 'ignis']\n"
     ]
    }
   ],
   "source": [
    "Library_IIITDM.Read(\"books.dat\")"
   ]
  },
  {
   "cell_type": "code",
   "execution_count": 25,
   "metadata": {},
   "outputs": [
    {
     "name": "stdout",
     "output_type": "stream",
     "text": [
      "[1, 'junglw', 1000.0, 1, 1998, 'rudyard']\n",
      "[2, 'rudresh', 780.0, 3, 2008, 'dwilan']\n",
      "The required item has been found\n"
     ]
    }
   ],
   "source": [
    "Library_IIITDM.Search(\"books.dat\",\"rudresh\")"
   ]
  },
  {
   "cell_type": "code",
   "execution_count": null,
   "metadata": {},
   "outputs": [],
   "source": [
    "#Working with the Library \n",
    "Library_IIITDM = Library()\n",
    "exploration_done = False\n",
    "\n",
    "while exploration_done is False:\n",
    "    # Writing the menu part \n",
    "    print(\"Welcome to The Library Management System \\n \")\n",
    "    print(\"What Operation do u want to perform \\n\")\n",
    "    print(\"Press Key according to need \")\n",
    "    print(\"Press 1 To Write book records to the Library  \")\n",
    "    print(\"Press 2 To Read book contents available in the Library\")\n",
    "    print(\"Press 3 To search a book by its title \")\n",
    "    print(\"Press 4 For Exiting \")\n",
    "    option_chosen = int(input(\"Enter the option you want to chose\"))\n",
    "    if option_chosen == 1:\n",
    "        #Inserting value into dict\n",
    "        Value_token = int(input(\"Enter the number of books to be inserted on record \\n\"))\n",
    "        file = \"books.dat\"\n",
    "        Library_IIITDM.Write(file,Value_token)\n",
    "    elif option_chosen == 2:\n",
    "        file = \"books.dat\"\n",
    "        Library_IIITDM.Read(file)\n",
    "    elif option_chosen == 3:\n",
    "        bookTitle = input(\"Enter the title you want to search for \\n\")\n",
    "        file = \"books.dat\"\n",
    "        Library_IIITDM.Search(file,bookTitle)\n",
    "    elif option_chosen == 4:\n",
    "        print(\"Thanks for visiting \")\n",
    "        print(\"You are exiting now\")\n",
    "        exploration_done = True\n",
    "    else:\n",
    "        print(\"Maybe you made an input error. We take input values from range 1 to 4\")"
   ]
  }
 ],
 "metadata": {
  "kernelspec": {
   "display_name": "Python 3.8.8 ('base')",
   "language": "python",
   "name": "python3"
  },
  "language_info": {
   "codemirror_mode": {
    "name": "ipython",
    "version": 3
   },
   "file_extension": ".py",
   "mimetype": "text/x-python",
   "name": "python",
   "nbconvert_exporter": "python",
   "pygments_lexer": "ipython3",
   "version": "3.8.8"
  },
  "orig_nbformat": 4,
  "vscode": {
   "interpreter": {
    "hash": "2f3eb0242237f7482054201cdc0254386ced23c6e95d6945cb90bc9b5b8e1362"
   }
  }
 },
 "nbformat": 4,
 "nbformat_minor": 2
}
