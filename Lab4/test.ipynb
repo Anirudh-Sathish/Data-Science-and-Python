{
 "cells": [
  {
   "cell_type": "code",
   "execution_count": 6,
   "metadata": {},
   "outputs": [],
   "source": [
    "#Anirudh Sathish \n",
    "\n",
    "import pickle"
   ]
  },
  {
   "cell_type": "code",
   "execution_count": 10,
   "metadata": {},
   "outputs": [],
   "source": [
    "# Adding books to the file \n",
    "file1=open('books.dat', 'wb')\n",
    "#name, account number, title, price, edition, year, and author name\n",
    "x=[\"Complex Numbers\", 23 ,\"Krasinkies complex numbers \", 1000, 7 , 2022, \"Krasinksi\" ]\n",
    "pickle.dump(x, file1)\n",
    "y=[\"Complexity\", 23 ,\"Krazick complex numbers \", 1000, 7 , 2022, \"Krasinksi\" ]\n",
    "pickle.dump(y, file1)\n",
    "file1.close()"
   ]
  },
  {
   "cell_type": "code",
   "execution_count": 11,
   "metadata": {},
   "outputs": [
    {
     "name": "stdout",
     "output_type": "stream",
     "text": [
      "['Complex Numbers', 23, 'Krasinkies complex numbers ', 1000, 7, 2022, 'Krasinksi']\n",
      "['Complex Numbers', 23, 'Krasinkies complex numbers ', 1000, 7, 2022, 'Krasinksi']\n",
      "['Complex Numbers', 23, 'Krasinkies complex numbers ', 1000, 7, 2022, 'Krasinksi']\n",
      "['Complex Numbers', 23, 'Krasinkies complex numbers ', 1000, 7, 2022, 'Krasinksi']\n",
      "['Complex Numbers', 23, 'Krasinkies complex numbers ', 1000, 7, 2022, 'Krasinksi']\n",
      "['Complex Numbers', 23, 'Krasinkies complex numbers ', 1000, 7, 2022, 'Krasinksi']\n",
      "['Complex Numbers', 23, 'Krasinkies complex numbers ', 1000, 7, 2022, 'Krasinksi']\n"
     ]
    }
   ],
   "source": [
    "file1=open('books.dat', 'rb')\n",
    "y=pickle.load(file1)\n",
    "for y_i in y:\n",
    "    print(y)\n",
    "\n"
   ]
  },
  {
   "cell_type": "code",
   "execution_count": 1,
   "metadata": {},
   "outputs": [],
   "source": [
    "import numpy as np "
   ]
  },
  {
   "cell_type": "code",
   "execution_count": 2,
   "metadata": {},
   "outputs": [],
   "source": [
    "x = np.array([[1,2],[3,4]])\n",
    "ix = np.linalg.inv(x)"
   ]
  },
  {
   "cell_type": "code",
   "execution_count": 4,
   "metadata": {},
   "outputs": [
    {
     "name": "stdout",
     "output_type": "stream",
     "text": [
      "[[-2.   1. ]\n",
      " [ 1.5 -0.5]]\n"
     ]
    }
   ],
   "source": [
    "print(ix)\n"
   ]
  },
  {
   "cell_type": "code",
   "execution_count": null,
   "metadata": {},
   "outputs": [],
   "source": []
  }
 ],
 "metadata": {
  "kernelspec": {
   "display_name": "Python 3.8.8 ('base')",
   "language": "python",
   "name": "python3"
  },
  "language_info": {
   "codemirror_mode": {
    "name": "ipython",
    "version": 3
   },
   "file_extension": ".py",
   "mimetype": "text/x-python",
   "name": "python",
   "nbconvert_exporter": "python",
   "pygments_lexer": "ipython3",
   "version": "3.8.8"
  },
  "orig_nbformat": 4,
  "vscode": {
   "interpreter": {
    "hash": "2f3eb0242237f7482054201cdc0254386ced23c6e95d6945cb90bc9b5b8e1362"
   }
  }
 },
 "nbformat": 4,
 "nbformat_minor": 2
}
