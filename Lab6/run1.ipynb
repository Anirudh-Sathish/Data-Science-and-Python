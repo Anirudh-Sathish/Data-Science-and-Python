{
 "cells": [
  {
   "cell_type": "code",
   "execution_count": null,
   "metadata": {},
   "outputs": [],
   "source": [
    "import pandas as pd "
   ]
  },
  {
   "cell_type": "markdown",
   "metadata": {},
   "source": [
    "image.png"
   ]
  },
  {
   "cell_type": "code",
   "execution_count": null,
   "metadata": {},
   "outputs": [],
   "source": [
    "name_list = [\"Ram\",\"Sam\",\"Prabhu\"]\n",
    "AccountNo_list = [\"9893893891\",\"9893893898\",\"9893893871\"]\n",
    "AccountType_list = [\"SB\",\"CA\",\"SB\"]\n",
    "AadhaarNo_List = [\"989389389173\",\"989389389179\",\"989389389159\"]\n",
    "Balance = [8989839,7690990,989330]\n"
   ]
  },
  {
   "cell_type": "code",
   "execution_count": null,
   "metadata": {},
   "outputs": [],
   "source": [
    "# Creating a dictionary to hold values \n",
    "dict_1 ={'Name': name_list, 'AccountNo':AccountNo_list, 'AccountType': AccountType_list ,\n",
    " 'Adhaar No': AadhaarNo_List , 'Balance': Balance}"
   ]
  },
  {
   "cell_type": "code",
   "execution_count": null,
   "metadata": {},
   "outputs": [],
   "source": [
    "# Creating the dataframe \n",
    "df1 = pd.DataFrame(dict_1)\n",
    "print(df1)"
   ]
  },
  {
   "cell_type": "code",
   "execution_count": null,
   "metadata": {},
   "outputs": [],
   "source": [
    "#Coverting to excel\n",
    "df1.to_csv(\"BankInfo.csv\")"
   ]
  },
  {
   "cell_type": "code",
   "execution_count": null,
   "metadata": {},
   "outputs": [],
   "source": [
    "name_list = [\"Dhamu\"]\n",
    "AccountNo_list = [\"9893893289\"]\n",
    "AccountType_list = [\"SB\"]\n",
    "AadhaarNo_List = [\"989389389073\"]\n",
    "Balance = [898]\n",
    "\n",
    "dict_2 ={'Name': name_list, 'AccountNo':AccountNo_list, 'AccountType': AccountType_list ,\n",
    " 'Adhaar No': AadhaarNo_List , 'Balance': Balance}\n",
    "df2 = pd.DataFrame(dict_2) \n",
    "df1 = df1.append(df2,ignore_index=True)\n",
    "\n",
    "print(df1)"
   ]
  },
  {
   "cell_type": "code",
   "execution_count": null,
   "metadata": {},
   "outputs": [],
   "source": [
    "index = 0\n",
    "req_acc = \"9893893891\"\n",
    "for acc_no in df1[\"AccountNo\"]:\n",
    "    print(acc_no)\n",
    "    if(acc_no == req_acc):\n",
    "        df1 = df1.drop(index,)\n",
    "    index+=1 \n",
    "\n"
   ]
  },
  {
   "cell_type": "code",
   "execution_count": null,
   "metadata": {},
   "outputs": [],
   "source": [
    "print(df1)\n",
    "df1 = df1.drop(3)\n",
    "print(df1)"
   ]
  },
  {
   "cell_type": "code",
   "execution_count": null,
   "metadata": {},
   "outputs": [],
   "source": [
    "df1 = df1.reset_index()\n",
    "df1 = df1.drop(['index'], axis=1)\n",
    "print(df1)"
   ]
  },
  {
   "cell_type": "code",
   "execution_count": null,
   "metadata": {},
   "outputs": [],
   "source": [
    "# For crediting to the account no \n",
    "index = 0\n",
    "req_acc = \"9893893871\"\n",
    "for acc_no in df1[\"AccountNo\"]:\n",
    "    if(acc_no == req_acc):\n",
    "        print(\"Balance : \")\n",
    "        moneyToBeCredited = 50000000\n",
    "        val = df1['Balance'][index] + moneyToBeCredited \n",
    "        df1['Balance'][index] = val \n",
    "        print(df1['Balance'][index])\n",
    "    index+=1 "
   ]
  },
  {
   "cell_type": "code",
   "execution_count": null,
   "metadata": {},
   "outputs": [],
   "source": []
  }
 ],
 "metadata": {
  "kernelspec": {
   "display_name": "Python 3.8.8 ('base')",
   "language": "python",
   "name": "python3"
  },
  "language_info": {
   "codemirror_mode": {
    "name": "ipython",
    "version": 3
   },
   "file_extension": ".py",
   "mimetype": "text/x-python",
   "name": "python",
   "nbconvert_exporter": "python",
   "pygments_lexer": "ipython3",
   "version": "3.8.8"
  },
  "orig_nbformat": 4,
  "vscode": {
   "interpreter": {
    "hash": "2f3eb0242237f7482054201cdc0254386ced23c6e95d6945cb90bc9b5b8e1362"
   }
  }
 },
 "nbformat": 4,
 "nbformat_minor": 2
}
